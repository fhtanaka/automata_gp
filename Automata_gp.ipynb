{
 "cells": [
  {
   "cell_type": "code",
   "execution_count": 1,
   "id": "05a151a2",
   "metadata": {},
   "outputs": [],
   "source": [
    "import operator\n",
    "# https://github.com/DEAP/deap/issues/491\n",
    "import numpy as np\n",
    "from deap import algorithms, base, creator, gp, tools\n",
    "from scoop import futures\n",
    "import pygraphviz as pgv\n",
    "import matplotlib.pyplot as plt\n",
    "import math\n",
    "import imageio\n",
    "import pickle\n",
    "import argparse\n",
    "import warnings\n",
    "# warnings.simplefilter('ignore') "
   ]
  },
  {
   "cell_type": "code",
   "execution_count": 11,
   "id": "5724f181",
   "metadata": {},
   "outputs": [],
   "source": [
    "############################################ Parameters ################################################\n",
    "TARGET_EMOJI = 0 #@param \"🦎\"\n",
    "MAX_HEIGHT = 15\n",
    "APPLY_SOBEL_FILTER = False\n",
    "VISION = 1\n",
    "POPULATION = 250\n",
    "TESTS_FOR_EACH_TREE = 1\n",
    "N_TOTAL_STEPS = 20\n",
    "GENS = 30\n",
    "TARGET_IMG = np.full((25,25), .5)\n",
    "SAVETO = None\n",
    "RENDER = False"
   ]
  },
  {
   "cell_type": "code",
   "execution_count": 3,
   "id": "73571654",
   "metadata": {},
   "outputs": [],
   "source": [
    "############################################ Test Images ################################################\n",
    "def degrade_img():\n",
    "    img = np.ones((25,25))\n",
    "    for i in range(25):\n",
    "        img[i][:] = 1 - (i*5)/100\n",
    "    return img\n",
    "\n",
    "def column_img():\n",
    "    img = np.ones((25,25))\n",
    "    for i in range(25):\n",
    "        for j in range(25):\n",
    "            if j == 12:\n",
    "                img[i][j] = 1 - (i*5)/100\n",
    "    return img\n",
    "\n",
    "def plus_img():\n",
    "    img = np.ones((25,25))\n",
    "    for i in range(25):\n",
    "        for j in range(25):\n",
    "            if j == 12 or i == 12:\n",
    "                img[i][j] = 0\n",
    "    return img\n",
    "\n",
    "def x_img():\n",
    "    img = np.ones((25,25))\n",
    "    for i in range(25):\n",
    "        for j in range(25):\n",
    "            if j == i or i + j == 24:\n",
    "                img[i][j] = 0\n",
    "    return img\n",
    "\n",
    "def print_img(img):\n",
    "    plt.figure(figsize=(4,4))\n",
    "    plt.imshow(img, cmap=plt.get_cmap('gray'), vmin=0, vmax=1)\n",
    "    plt.show()"
   ]
  },
  {
   "cell_type": "code",
   "execution_count": 4,
   "id": "461ef0a7",
   "metadata": {},
   "outputs": [],
   "source": [
    "############################################ Image Convertion functions ################################################\n",
    "def to_rgb(x):\n",
    "    # assume rgb premultiplied by alpha\n",
    "    rgb, a = x[..., :3], to_alpha(x)\n",
    "    return np.clip(1.0-a+rgb, 0, 0.9999)\n",
    "\n",
    "def to_alpha(x):\n",
    "    return np.clip(x[..., 3:4], 0, 0.9999)\n",
    "\n",
    "def to_gray(x):\n",
    "    rgb = to_rgb(x)\n",
    "    return np.dot(rgb[...,:3], [0.2989, 0.5870, 0.1140])\n",
    "\n",
    "\n",
    "def load_emoji(index, path=\"data/emoji.png\", size=40):\n",
    "    im = imageio.imread(path)\n",
    "    emoji = np.array(im[:, index*size:(index+1)*size].astype(np.float32))\n",
    "    emoji /= 255.0\n",
    "    gray_emoji = to_gray(emoji)\n",
    "    return gray_emoji\n",
    "\n",
    "def plot_loss(loss_log):\n",
    "    plt.figure(figsize=(10, 4))\n",
    "    plt.title('Loss history (log10)')\n",
    "    plt.plot(np.log10(loss_log), '.', alpha=0.1)\n",
    "    plt.show()\n",
    "\n",
    "def create_base_env(target_image):\n",
    "    env = np.copy(target_image)\n",
    "    env = np.pad(np.copy(target_image), 1)\n",
    "    env[:] = 1\n",
    "    a, b = env.shape\n",
    "    env[int(a/2)][int(b/2)] = 0\n",
    "    return env\n",
    "    \n",
    "def draw_graph(expr):\n",
    "    nodes, edges, labels = gp.graph(expr)\n",
    "    g = pgv.AGraph()\n",
    "    g.add_nodes_from(nodes)\n",
    "    g.add_edges_from(edges)\n",
    "    g.layout(prog=\"dot\")\n",
    "\n",
    "    for i in nodes:\n",
    "        n = g.get_node(i)\n",
    "        n.attr[\"label\"] = labels[i]\n",
    "    g.draw('out.png')"
   ]
  },
  {
   "cell_type": "code",
   "execution_count": 5,
   "id": "905791f0",
   "metadata": {},
   "outputs": [],
   "source": [
    "############################################ Automata  ################################################\n",
    "sobel_x = [[-1, 0, +1], [-2, 0, +2], [-1, 0, +1]]\n",
    "sobel_y = np.transpose(sobel_x)\n",
    "class CA_2D_model:\n",
    "    def __init__(self, length, width, individual, *, vision=VISION):\n",
    "        self.individual = individual\n",
    "        self.len = length + 2*vision\n",
    "        self.wid = width + 2*vision\n",
    "        self.vision = vision\n",
    "        self.vision_size = (vision+2)**2\n",
    "\n",
    "        # The size of the pad is dependent on how far each cell sees to updates its valus\n",
    "        self.original = np.pad(np.zeros((length, width)),1)\n",
    "        self.original[:] = 1    \n",
    "        self.original[int(self.len/2)][int(self.wid/2)] = 0\n",
    "\n",
    "        self.ca = np.copy(self.original)\n",
    "    \n",
    "    def reset_ca(self):\n",
    "        self.ca = np.copy(self.original)\n",
    "\n",
    "    def get_observation(self, i, j):\n",
    "        observation = self.ca[i-self.vision:i+self.vision+1, j-self.vision:j+self.vision+1]\n",
    "        if APPLY_SOBEL_FILTER and observation.shape == sobel_y.shape:\n",
    "            x = np.multiply(sobel_x, observation) # apply sobel filter for edge detection\n",
    "            y = np.multiply(sobel_y, observation) # apply sobel filter for edge detection\n",
    "            return np.append(observation.reshape(-1), [x.reshape(-1), y.reshape(-1)])\n",
    "        return observation.reshape(-1)\n",
    "\n",
    "    def new_cell_value(self, i, j):\n",
    "        if i-self.vision < 0 or j-self.vision < 0:\n",
    "            return\n",
    "        if i+self.vision >= self.len or j + self.vision >= self.wid:\n",
    "            return\n",
    "\n",
    "        observation = self.get_observation(i, j)\n",
    "        if observation[0:self.vision_size].sum() >= 1 * self.vision_size: # checking if the cell is alive\n",
    "            return 1.\n",
    "        return self.individual(*observation)\n",
    "\n",
    "    def update(self):\n",
    "        new_ca = np.copy(self.ca)\n",
    "        for i in range(self.vision, self.len - self.vision): # skipping pad\n",
    "            for j in range(self.vision, self.wid - self.vision): # skipping pad\n",
    "                new_ca[i, j] = self.new_cell_value(i, j)\n",
    "        if (new_ca == self.ca).all(): # checking if the cell updated or not\n",
    "            return False\n",
    "        self.ca = new_ca\n",
    "        return True\n",
    "\n",
    "    def remove_pad(self):\n",
    "        return self.ca[self.vision:self.len - self.vision, self.vision:self.wid - self.vision]\n",
    "\n",
    "    def loss(self, target_image):\n",
    "        ca = self.remove_pad()\n",
    "        if target_image.shape != ca.shape:\n",
    "            raise\n",
    "        loss = 0\n",
    "        for i in range(target_image.shape[0]):\n",
    "            for j in range(target_image.shape[1]):\n",
    "                if ca[i,j] > 1 or ca[i,j] < 0 or math.isnan(ca[i,j]):\n",
    "                    return 1000\n",
    "                l = ca[i,j] - target_image[i,j]\n",
    "                loss += l**2\n",
    "        return loss"
   ]
  },
  {
   "cell_type": "code",
   "execution_count": 6,
   "id": "da0ede23",
   "metadata": {},
   "outputs": [],
   "source": [
    "############################################ Creating GP and image ################################################\n",
    "toolbox = base.Toolbox()\n",
    "input_size = (VISION+2)**2\n",
    "if APPLY_SOBEL_FILTER:\n",
    "    input_size *= 3\n",
    "pset = gp.PrimitiveSet(\"MAIN\", input_size) \n",
    "\n",
    "############################################ Node Custom Operations ################################################\n",
    "\n",
    "def protected_div(left, right):\n",
    "    if right == 0:\n",
    "        return 1\n",
    "    return left / right\n",
    "    \n",
    "def limit(input, minimum, maximum):\n",
    "    if input < minimum:\n",
    "        return minimum\n",
    "    elif input > maximum:\n",
    "        return maximum\n",
    "    else:\n",
    "        return input\n",
    "\n",
    "def if_then_else(input, output1, output2):\n",
    "    if input: \n",
    "        return output1\n",
    "    return output2"
   ]
  },
  {
   "cell_type": "code",
   "execution_count": 7,
   "id": "0114d888",
   "metadata": {},
   "outputs": [],
   "source": [
    "############################################ Creating the GP ################################################\n",
    "def eval_individual(individual, render=False):\n",
    "    shape = TARGET_IMG.shape\n",
    "    ind = toolbox.compile(individual)\n",
    "    ca = CA_2D_model(shape[0], shape[1], ind)\n",
    "    \n",
    "    total_loss = 0.0\n",
    "    for i in range(TESTS_FOR_EACH_TREE):\n",
    "        ca.reset_ca()\n",
    "\n",
    "        for _ in range(N_TOTAL_STEPS):\n",
    "            if render:\n",
    "                print_img(ca.remove_pad())\n",
    "                print(ca.loss(TARGET_IMG))\n",
    "            update = ca.update()\n",
    "            if not update: # the automata got stable\n",
    "                break\n",
    "\n",
    "        loss = ca.loss(TARGET_IMG)\n",
    "        total_loss += loss  \n",
    "\n",
    "    \n",
    "    l = total_loss / TESTS_FOR_EACH_TREE\n",
    "    return (l,)\n",
    "\n",
    "\n",
    "# Adding functions\n",
    "pset.addPrimitive(operator.add, 2)\n",
    "pset.addPrimitive(operator.sub, 2)\n",
    "pset.addPrimitive(operator.mul, 2)\n",
    "pset.addPrimitive(operator.abs, 1)\n",
    "pset.addPrimitive(protected_div, 2)\n",
    "pset.addPrimitive(limit, 3)\n",
    "pset.addPrimitive(if_then_else, 3)\n",
    "# Adding constants\n",
    "pset.addTerminal(0)\n",
    "pset.addTerminal(1)\n",
    "pset.addTerminal(0.1)\n",
    "\n",
    "creator.create(\"FitnessMin\", base.Fitness, weights=(-1.0,))\n",
    "creator.create(\"Individual\", gp.PrimitiveTree, fitness=creator.FitnessMin)\n",
    "\n",
    "# Tree generator\n",
    "toolbox.register(\"tree_generator\", gp.genHalfAndHalf, pset=pset, min_=1, max_=5)\n",
    "\n",
    "# Structure initializers\n",
    "toolbox.register(\"individual\", tools.initIterate, creator.Individual, toolbox.tree_generator)\n",
    "toolbox.register(\"population\", tools.initRepeat, list, toolbox.individual)\n",
    "toolbox.register(\"compile\", gp.compile, pset=pset)\n",
    "\n",
    "toolbox.register(\"map\", futures.map)\n",
    "toolbox.register(\"evaluate\", eval_individual)\n",
    "toolbox.register(\"select\", tools.selTournament, tournsize=7)\n",
    "toolbox.register(\"mate\", gp.cxOnePoint)\n",
    "toolbox.register(\"expr_mut\", gp.genFull, min_=0, max_=2)\n",
    "toolbox.register(\"mutate\", gp.mutUniform, expr=toolbox.expr_mut, pset=pset)\n",
    "\n",
    "toolbox.decorate(\"mate\", gp.staticLimit(operator.attrgetter('height'), MAX_HEIGHT))\n",
    "toolbox.decorate(\"mutate\", gp.staticLimit(operator.attrgetter('height'), MAX_HEIGHT))"
   ]
  },
  {
   "cell_type": "code",
   "execution_count": 24,
   "id": "67f838c8",
   "metadata": {},
   "outputs": [],
   "source": [
    "# TARGET_IMG = load_emoji(0, \"data/stick.png\", 25)\n",
    "# TARGET_IMG = load_emoji(0, \"data/brazil.png\", 25)\n",
    "TARGET_IMG = column_img()\n",
    "# TARGET_IMG = plus_img\n",
    "# TARGET_IMG = degrade_img()\n",
    "# TARGET_IMG = x_img()\n",
    "# TARGET_IMG = load_emoji(command_line_args.img)"
   ]
  },
  {
   "cell_type": "code",
   "execution_count": 12,
   "id": "fb28e407",
   "metadata": {},
   "outputs": [
    {
     "name": "stderr",
     "output_type": "stream",
     "text": [
      "/tmp/ipykernel_14465/2832359468.py:13: RuntimeWarning: invalid value encountered in double_scalars\n",
      "  return left / right\n",
      "/tmp/ipykernel_14465/2832359468.py:13: RuntimeWarning: overflow encountered in double_scalars\n",
      "  return left / right\n"
     ]
    },
    {
     "name": "stdout",
     "output_type": "stream",
     "text": [
      "   \t      \t                    fitness                    \t                     size                     \n",
      "   \t      \t-----------------------------------------------\t----------------------------------------------\n",
      "gen\tnevals\tavg    \tgen\tmax \tmin\tnevals\tstd    \tavg   \tgen\tmax\tmin\tnevals\tstd   \n",
      "0  \t250   \t337.782\t0  \t1000\t100\t250   \t347.646\t16.996\t0  \t155\t2  \t250   \t25.082\n",
      "1  \t236   \t206.045\t1  \t1000\t57.8961\t236   \t208.105\t13.104\t1  \t108\t1  \t236   \t16.8854\n",
      "2  \t235   \t183.443\t2  \t1000\t34.0695\t235   \t193.115\t11.896\t2  \t103\t1  \t235   \t14.814 \n",
      "3  \t233   \t163.217\t3  \t1000\t32.7505\t233   \t214.155\t9.976 \t3  \t50 \t1  \t233   \t7.52485\n",
      "4  \t235   \t131.051\t4  \t1000\t0      \t235   \t207.51 \t11.568\t4  \t26 \t1  \t235   \t5.34765\n",
      "5  \t236   \t160.781\t5  \t1000\t0      \t236   \t288.967\t11.704\t5  \t29 \t1  \t236   \t5.31868\n",
      "6  \t235   \t139.109\t6  \t1000\t0      \t235   \t259.215\t10.808\t6  \t35 \t1  \t235   \t5.92648\n",
      "7  \t238   \t129.426\t7  \t1000\t0      \t238   \t262.994\t10.884\t7  \t44 \t2  \t238   \t6.24232\n",
      "8  \t232   \t108.863\t8  \t1000\t0      \t232   \t240.809\t9.708 \t8  \t35 \t1  \t232   \t5.87526\n",
      "9  \t238   \t57.3048\t9  \t1000\t0      \t238   \t121.469\t10.384\t9  \t43 \t1  \t238   \t7.28262\n",
      "10 \t231   \t82.5567\t10 \t1000\t0      \t231   \t197.499\t12.888\t10 \t45 \t1  \t231   \t8.83332\n",
      "11 \t227   \t64.1998\t11 \t1000\t0      \t227   \t169.226\t15.296\t11 \t58 \t1  \t227   \t10.2446\n",
      "12 \t233   \t52.8813\t12 \t1000\t0      \t233   \t146.068\t19.12 \t12 \t67 \t1  \t233   \t13.0489\n",
      "13 \t231   \t32.1555\t13 \t1000\t0      \t231   \t115.689\t23.968\t13 \t71 \t1  \t231   \t14.7293\n",
      "14 \t241   \t36.9078\t14 \t1000\t0      \t241   \t131.701\t25.332\t14 \t72 \t1  \t241   \t14.7553\n",
      "15 \t229   \t63.235 \t15 \t1000\t0      \t229   \t206.319\t29.9  \t15 \t72 \t3  \t229   \t16.4198\n",
      "16 \t238   \t39.1907\t16 \t1000\t0      \t238   \t132.142\t32.452\t16 \t84 \t1  \t238   \t17.7809\n",
      "17 \t233   \t41.6203\t17 \t1000\t0      \t233   \t156.536\t35.52 \t17 \t87 \t1  \t233   \t18.3532\n",
      "18 \t229   \t35.7986\t18 \t1000\t0      \t229   \t130.927\t38    \t18 \t92 \t1  \t229   \t19.7555\n",
      "19 \t236   \t26.8839\t19 \t1000\t0      \t236   \t114.628\t39.296\t19 \t113\t3  \t236   \t21.7906\n",
      "20 \t237   \t46.5734\t20 \t1000\t0      \t237   \t168.136\t41.676\t20 \t113\t1  \t237   \t23.7499\n",
      "21 \t241   \t27.6538\t21 \t1000\t0      \t241   \t114.812\t43.668\t21 \t122\t1  \t241   \t23.6408\n",
      "22 \t234   \t19.2191\t22 \t1000\t0      \t234   \t95.2595\t45.456\t22 \t115\t1  \t234   \t21.5969\n",
      "23 \t227   \t21.177 \t23 \t1000\t0      \t227   \t112.375\t46.9  \t23 \t125\t3  \t227   \t26.1475\n",
      "24 \t238   \t33.663 \t24 \t1000\t0      \t238   \t143.378\t47.64 \t24 \t117\t3  \t238   \t25.9947\n",
      "25 \t227   \t27.8999\t25 \t1000\t0      \t227   \t114.721\t47.116\t25 \t114\t1  \t227   \t24.9292\n",
      "26 \t233   \t34.9193\t26 \t1000\t0      \t233   \t144.059\t49.264\t26 \t132\t3  \t233   \t25.4299\n",
      "27 \t234   \t22.0228\t27 \t1000\t0      \t234   \t96.6933\t51.796\t27 \t128\t3  \t234   \t26.2747\n",
      "28 \t233   \t30.2552\t28 \t1000\t0      \t233   \t130.746\t50.124\t28 \t138\t1  \t233   \t27.3864\n",
      "29 \t229   \t22.8563\t29 \t1000\t0      \t229   \t113.762\t50.76 \t29 \t157\t1  \t229   \t28.4186\n",
      "30 \t235   \t23.4022\t30 \t1000\t0      \t235   \t97.2476\t52.36 \t30 \t138\t1  \t235   \t28.5987\n"
     ]
    }
   ],
   "source": [
    "pop = toolbox.population(n=POPULATION)\n",
    "hof = tools.HallOfFame(5)\n",
    "\n",
    "stats_fit = tools.Statistics(lambda ind: ind.fitness.values)\n",
    "stats_size = tools.Statistics(len)\n",
    "mstats = tools.MultiStatistics(fitness=stats_fit, size=stats_size)\n",
    "mstats.register(\"avg\", np.mean)\n",
    "mstats.register(\"std\", np.std)\n",
    "mstats.register(\"min\", np.min)\n",
    "mstats.register(\"max\", np.max)\n",
    "\n",
    "pop, log = algorithms.eaSimple(pop, toolbox, 0.9, 0.3, GENS, stats=mstats,\n",
    "                               halloffame=hof, verbose=True)"
   ]
  },
  {
   "cell_type": "code",
   "execution_count": 28,
   "id": "3a10f79d",
   "metadata": {},
   "outputs": [],
   "source": [
    "halloffame = None\n",
    "file = \"testes/column_100g_25s.pkl\"\n",
    "cp = pickle.load(open(file, \"rb\"))\n",
    "halloffame = cp[\"halloffame\"]"
   ]
  },
  {
   "cell_type": "code",
   "execution_count": 29,
   "id": "fa169b08",
   "metadata": {},
   "outputs": [
    {
     "data": {
      "image/png": "[encoded data removed]",
      "text/plain": [
       "<Figure size 288x288 with 1 Axes>"
      ]
     },
     "metadata": {
      "needs_background": "light"
     },
     "output_type": "display_data"
    },
    {
     "name": "stdout",
     "output_type": "stream",
     "text": [
      "12.05\n"
     ]
    },
    {
     "data": {
      "image/png": "[encoded data removed]",
      "text/plain": [
       "<Figure size 288x288 with 1 Axes>"
      ]
     },
     "metadata": {
      "needs_background": "light"
     },
     "output_type": "display_data"
    },
    {
     "name": "stdout",
     "output_type": "stream",
     "text": [
      "12.45\n"
     ]
    },
    {
     "data": {
      "image/png": "[encoded data removed]",
      "text/plain": [
       "<Figure size 288x288 with 1 Axes>"
      ]
     },
     "metadata": {
      "needs_background": "light"
     },
     "output_type": "display_data"
    },
    {
     "name": "stdout",
     "output_type": "stream",
     "text": [
      "15.25\n"
     ]
    },
    {
     "data": {
      "image/png": "[encoded data removed]",
      "text/plain": [
       "<Figure size 288x288 with 1 Axes>"
      ]
     },
     "metadata": {
      "needs_background": "light"
     },
     "output_type": "display_data"
    },
    {
     "name": "stdout",
     "output_type": "stream",
     "text": [
      "20.05\n"
     ]
    },
    {
     "data": {
      "image/png": "[encoded data removed]",
      "text/plain": [
       "<Figure size 288x288 with 1 Axes>"
      ]
     },
     "metadata": {
      "needs_background": "light"
     },
     "output_type": "display_data"
    },
    {
     "name": "stdout",
     "output_type": "stream",
     "text": [
      "26.849999999999998\n"
     ]
    },
    {
     "data": {
      "image/png": "[encoded data removed]",
      "text/plain": [
       "<Figure size 288x288 with 1 Axes>"
      ]
     },
     "metadata": {
      "needs_background": "light"
     },
     "output_type": "display_data"
    },
    {
     "name": "stdout",
     "output_type": "stream",
     "text": [
      "35.64999999999999\n"
     ]
    },
    {
     "data": {
      "image/png": "[encoded data removed]",
      "text/plain": [
       "<Figure size 288x288 with 1 Axes>"
      ]
     },
     "metadata": {
      "needs_background": "light"
     },
     "output_type": "display_data"
    },
    {
     "name": "stdout",
     "output_type": "stream",
     "text": [
      "46.449999999999996\n"
     ]
    },
    {
     "data": {
      "image/png": "[encoded data removed]",
      "text/plain": [
       "<Figure size 288x288 with 1 Axes>"
      ]
     },
     "metadata": {
      "needs_background": "light"
     },
     "output_type": "display_data"
    },
    {
     "name": "stdout",
     "output_type": "stream",
     "text": [
      "59.25\n"
     ]
    },
    {
     "data": {
      "image/png": "[encoded data removed]",
      "text/plain": [
       "<Figure size 288x288 with 1 Axes>"
      ]
     },
     "metadata": {
      "needs_background": "light"
     },
     "output_type": "display_data"
    },
    {
     "name": "stdout",
     "output_type": "stream",
     "text": [
      "74.05\n"
     ]
    },
    {
     "data": {
      "image/png": "[encoded data removed]",
      "text/plain": [
       "<Figure size 288x288 with 1 Axes>"
      ]
     },
     "metadata": {
      "needs_background": "light"
     },
     "output_type": "display_data"
    },
    {
     "name": "stdout",
     "output_type": "stream",
     "text": [
      "90.85\n"
     ]
    },
    {
     "data": {
      "image/png": "[encoded data removed]",
      "text/plain": [
       "<Figure size 288x288 with 1 Axes>"
      ]
     },
     "metadata": {
      "needs_background": "light"
     },
     "output_type": "display_data"
    },
    {
     "name": "stdout",
     "output_type": "stream",
     "text": [
      "109.64999999999999\n"
     ]
    },
    {
     "data": {
      "image/png": "[encoded data removed]",
      "text/plain": [
       "<Figure size 288x288 with 1 Axes>"
      ]
     },
     "metadata": {
      "needs_background": "light"
     },
     "output_type": "display_data"
    },
    {
     "name": "stdout",
     "output_type": "stream",
     "text": [
      "130.45\n"
     ]
    },
    {
     "data": {
      "image/png": "[encoded data removed]",
      "text/plain": [
       "<Figure size 288x288 with 1 Axes>"
      ]
     },
     "metadata": {
      "needs_background": "light"
     },
     "output_type": "display_data"
    },
    {
     "name": "stdout",
     "output_type": "stream",
     "text": [
      "153.25000000000006\n"
     ]
    },
    {
     "data": {
      "image/png": "[encoded data removed]",
      "text/plain": [
       "<Figure size 288x288 with 1 Axes>"
      ]
     },
     "metadata": {
      "needs_background": "light"
     },
     "output_type": "display_data"
    },
    {
     "name": "stdout",
     "output_type": "stream",
     "text": [
      "153.50000000000006\n"
     ]
    },
    {
     "data": {
      "text/plain": [
       "(153.50000000000006,)"
      ]
     },
     "execution_count": 29,
     "metadata": {},
     "output_type": "execute_result"
    }
   ],
   "source": [
    "eval_individual(halloffame[0], True)"
   ]
  },
  {
   "cell_type": "code",
   "execution_count": 26,
   "id": "094a1393",
   "metadata": {},
   "outputs": [
    {
     "data": {
      "image/png": "[encoded data removed]",
      "text/plain": [
       "<Figure size 288x288 with 1 Axes>"
      ]
     },
     "metadata": {
      "needs_background": "light"
     },
     "output_type": "display_data"
    }
   ],
   "source": [
    "print_img(TARGET_IMG)"
   ]
  },
  {
   "cell_type": "code",
   "execution_count": null,
   "id": "1ba0ca02",
   "metadata": {},
   "outputs": [],
   "source": []
  }
 ],
 "metadata": {
  "kernelspec": {
   "display_name": "Python 3 (ipykernel)",
   "language": "python",
   "name": "python3"
  },
  "language_info": {
   "codemirror_mode": {
    "name": "ipython",
    "version": 3
   },
   "file_extension": ".py",
   "mimetype": "text/x-python",
   "name": "python",
   "nbconvert_exporter": "python",
   "pygments_lexer": "ipython3",
   "version": "3.8.10"
  }
 },
 "nbformat": 4,
 "nbformat_minor": 5
}

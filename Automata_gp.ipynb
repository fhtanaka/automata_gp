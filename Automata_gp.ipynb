{
 "cells": [
  {
   "cell_type": "code",
   "execution_count": 1,
   "id": "05a151a2",
   "metadata": {},
   "outputs": [],
   "source": [
    "import operator\n",
    "# https://github.com/DEAP/deap/issues/491\n",
    "import gym\n",
    "import numpy as np\n",
    "from deap import algorithms, base, creator, gp, tools\n",
    "from scoop import futures\n",
    "import pygraphviz as pgv\n",
    "import matplotlib.pyplot as plt\n",
    "import math\n",
    "import imageio\n",
    "\n",
    "def print_img(img):\n",
    "    plt.figure(figsize=(4,4))\n",
    "    plt.imshow(img, cmap=plt.get_cmap('gray'), vmin=0, vmax=1)\n",
    "    plt.show()"
   ]
  },
  {
   "cell_type": "code",
   "execution_count": 2,
   "id": "5724f181",
   "metadata": {},
   "outputs": [],
   "source": [
    "TARGET_EMOJI = 0 #@param \"🦎\"\n",
    "vision = 1\n",
    "tests_for_each_tree = 1\n",
    "n_total_steps = 10\n",
    "pset = gp.PrimitiveSet(\"MAIN\", ((vision+2)**2)*3) "
   ]
  },
  {
   "cell_type": "code",
   "execution_count": 3,
   "id": "73571654",
   "metadata": {},
   "outputs": [
    {
     "data": {
      "image/png": "[encoded data removed]",
      "text/plain": [
       "<Figure size 288x288 with 1 Axes>"
      ]
     },
     "metadata": {
      "needs_background": "light"
     },
     "output_type": "display_data"
    }
   ],
   "source": [
    "target_img = np.zeros((25,25))\n",
    "for i in range(25):\n",
    "    target_img[i][:] = 1 - (i*5)/100\n",
    "# target_img = load_emoji(TARGET_EMOJI)\n",
    "print_img(target_img)"
   ]
  },
  {
   "cell_type": "code",
   "execution_count": 4,
   "id": "461ef0a7",
   "metadata": {},
   "outputs": [],
   "source": [
    "############################################ Image functions ################################################\n",
    "def to_rgb(x):\n",
    "    # assume rgb premultiplied by alpha\n",
    "    rgb, a = x[..., :3], to_alpha(x)\n",
    "    return np.clip(1.0-a+rgb, 0, 0.9999)\n",
    "\n",
    "def to_alpha(x):\n",
    "    return np.clip(x[..., 3:4], 0, 0.9999)\n",
    "\n",
    "def to_gray(x):\n",
    "    rgb = to_rgb(x)\n",
    "    return np.dot(rgb[...,:3], [0.2989, 0.5870, 0.1140])\n",
    "\n",
    "\n",
    "def load_emoji(index, path=\"data/emoji.png\"):\n",
    "    im = imageio.imread(path)\n",
    "    emoji = np.array(im[:, index*40:(index+1)*40].astype(np.float32))\n",
    "    emoji /= 255.0\n",
    "    gray_emoji = to_gray(emoji)\n",
    "    return gray_emoji\n",
    "\n",
    "def plot_loss(loss_log):\n",
    "    plt.figure(figsize=(10, 4))\n",
    "    plt.title('Loss history (log10)')\n",
    "    plt.plot(np.log10(loss_log), '.', alpha=0.1)\n",
    "    plt.show()\n",
    "\n",
    "def create_base_env(target_image):\n",
    "    env = np.copy(target_image)\n",
    "    env = np.pad(np.copy(target_image), 1)\n",
    "    env[:] = 1.0\n",
    "    a, b = env.shape\n",
    "    env[int(a/2)][int(b/2)] = 0.5\n",
    "    return env\n",
    "    \n",
    "def draw_graph(expr):\n",
    "    nodes, edges, labels = gp.graph(expr)\n",
    "    g = pgv.AGraph()\n",
    "    g.add_nodes_from(nodes)\n",
    "    g.add_edges_from(edges)\n",
    "    g.layout(prog=\"dot\")\n",
    "\n",
    "    for i in nodes:\n",
    "        n = g.get_node(i)\n",
    "        n.attr[\"label\"] = labels[i]\n",
    "    g.draw('out.png')"
   ]
  },
  {
   "cell_type": "code",
   "execution_count": 5,
   "id": "905791f0",
   "metadata": {},
   "outputs": [],
   "source": [
    "# Adding functions\n",
    "pset.addPrimitive(operator.add, 2)\n",
    "pset.addPrimitive(operator.sub, 2)\n",
    "pset.addPrimitive(operator.mul, 2)\n",
    "pset.addPrimitive(operator.abs, 1)\n",
    "\n",
    "\n",
    "def protected_div(a, b):\n",
    "    if b == 0:\n",
    "        return 1\n",
    "    else: \n",
    "        return a/b\n",
    "    \n",
    "def limit(input, minimum, maximum):\n",
    "    if input < minimum:\n",
    "        return minimum\n",
    "    elif input > maximum:\n",
    "        return maximum\n",
    "    else:\n",
    "        return input\n",
    "\n",
    "def if_then_else(input, output1, output2):\n",
    "    if input: return output1\n",
    "    else: return output2\n",
    "\n",
    "pset.addPrimitive(protected_div, 2)\n",
    "pset.addPrimitive(limit, 3)\n",
    "pset.addPrimitive(if_then_else, 3)\n",
    "# Adding constants\n",
    "pset.addTerminal(0)\n",
    "pset.addTerminal(1)\n",
    "pset.addTerminal(0.1)"
   ]
  },
  {
   "cell_type": "code",
   "execution_count": 6,
   "id": "da0ede23",
   "metadata": {},
   "outputs": [],
   "source": [
    "############################################ Automata  ################################################\n",
    "sobel_x = [[-1, 0, +1], [-2, 0, +2], [-1, 0, +1]]\n",
    "sobel_y = np.transpose(sobel_x)\n",
    "\n",
    "class CA_2D_model:\n",
    "    def __init__(self, length, width, individual, *, vision=1 ):\n",
    "        self.action = toolbox.compile(individual)\n",
    "        self.len = length + 2*vision\n",
    "        self.wid = width + 2*vision\n",
    "        self.vision = vision\n",
    "        self.vision_size = (vision+2)**2\n",
    "\n",
    "        # The size of the pad is dependent on how far each cell sees to updates its valus\n",
    "        self.original = np.pad(np.zeros((length, width)),1)\n",
    "        self.original[:] = 1    \n",
    "        self.original[int(self.len/2)][int(self.wid/2)] = 0\n",
    "\n",
    "        self.ca = np.copy(self.original)\n",
    "    \n",
    "    def reset_ca(self):\n",
    "        self.ca = np.copy(self.original)\n",
    "\n",
    "        \n",
    "    def get_observation(self, i, j):\n",
    "        observation = self.ca[i-self.vision:i+self.vision+1, j-self.vision:j+self.vision+1]\n",
    "        x = np.multiply(sobel_x, observation) # apply sobel filter for edge detection\n",
    "        y = np.multiply(sobel_y, observation) # apply sobel filter for edge detection\n",
    "        return np.append(observation.reshape(-1), [x.reshape(-1), y.reshape(-1)])\n",
    "    \n",
    "    def new_cell_value(self, i, j):\n",
    "        if i-self.vision < 0 or j-self.vision < 0:\n",
    "            return\n",
    "        if i+self.vision >= self.len or j + self.vision >= self.wid:\n",
    "            return\n",
    "\n",
    "        observation = self.get_observation(i, j)\n",
    "        if observation[0:self.vision_size].sum() >= 1 * self.vision_size: # checking if the cell is alive\n",
    "            return 1.\n",
    "        return self.action(*observation)\n",
    "\n",
    "    def update(self):\n",
    "        new_ca = np.copy(self.ca)\n",
    "        for i in range(self.vision, self.len - self.vision): # skipping pad\n",
    "            for j in range(self.vision, self.wid - self.vision): # skipping pad\n",
    "                new_ca[i, j] = self.new_cell_value(i, j)\n",
    "        if (new_ca == self.ca).all():\n",
    "            return False\n",
    "        self.ca = new_ca\n",
    "        return True\n",
    "        \n",
    "    def remove_pad(self):\n",
    "        return self.ca[self.vision:self.len - self.vision, self.vision:self.wid - self.vision]\n",
    "\n",
    "    def loss(self, target_image):\n",
    "        ca = self.remove_pad()\n",
    "        if target_image.shape != ca.shape:\n",
    "            raise\n",
    "        loss = 0\n",
    "        for i in range(target_image.shape[0]):\n",
    "            for j in range(target_image.shape[1]):\n",
    "                if ca[i,j] > 1 or ca[i,j] < 0 or math.isnan(ca[i,j]):\n",
    "                    return 100\n",
    "                l = ca[i,j] - target_image[i,j]\n",
    "                loss += l**2\n",
    "        return loss"
   ]
  },
  {
   "cell_type": "code",
   "execution_count": 12,
   "id": "0114d888",
   "metadata": {},
   "outputs": [],
   "source": [
    "def eval_individual(individual, render=False):\n",
    "    shape = target_img.shape\n",
    "    ca = CA_2D_model(shape[0], shape[1], individual)\n",
    "    \n",
    "    total_loss = 0.0\n",
    "    for i in range(tests_for_each_tree):\n",
    "        ca.reset_ca()\n",
    "\n",
    "        for _ in range(n_total_steps):\n",
    "            if render:\n",
    "                print_img(ca.ca)\n",
    "                print(ca.loss(target_img))\n",
    "            update = ca.update()\n",
    "            if not update: # the automata got stable\n",
    "                break\n",
    "\n",
    "        loss = ca.loss(target_img)\n",
    "        total_loss += loss  \n",
    "\n",
    "    \n",
    "    l = total_loss / tests_for_each_tree\n",
    "    return (l,)"
   ]
  },
  {
   "cell_type": "code",
   "execution_count": 8,
   "id": "d053cea1",
   "metadata": {},
   "outputs": [],
   "source": [
    "creator.create(\"FitnessMin\", base.Fitness, weights=(-1.0,))\n",
    "creator.create(\"Individual\", gp.PrimitiveTree, fitness=creator.FitnessMin)\n",
    "\n",
    "toolbox = base.Toolbox()\n",
    "\n",
    "# Tree generator\n",
    "toolbox.register(\"tree_generator\", gp.genHalfAndHalf, pset=pset, min_=1, max_=5)\n",
    "\n",
    "# Structure initializers\n",
    "toolbox.register(\"individual\", tools.initIterate, creator.Individual, toolbox.tree_generator)\n",
    "toolbox.register(\"population\", tools.initRepeat, list, toolbox.individual)\n",
    "toolbox.register(\"compile\", gp.compile, pset=pset)"
   ]
  },
  {
   "cell_type": "code",
   "execution_count": 9,
   "id": "cf73f3b6",
   "metadata": {},
   "outputs": [],
   "source": [
    "#toolbox.register(\"map\", futures.map)\n",
    "toolbox.register(\"evaluate\", eval_individual)\n",
    "toolbox.register(\"select\", tools.selTournament, tournsize=7)\n",
    "toolbox.register(\"mate\", gp.cxOnePoint)\n",
    "toolbox.register(\"expr_mut\", gp.genFull, min_=0, max_=2)\n",
    "toolbox.register(\"mutate\", gp.mutUniform, expr=toolbox.expr_mut, pset=pset)"
   ]
  },
  {
   "cell_type": "code",
   "execution_count": 13,
   "id": "161eae53",
   "metadata": {},
   "outputs": [
    {
     "name": "stderr",
     "output_type": "stream",
     "text": [
      "/tmp/ipykernel_17529/2690056855.py:12: RuntimeWarning: overflow encountered in double_scalars\n",
      "  return a/b\n",
      "/tmp/ipykernel_17529/2175249706.py:26: RuntimeWarning: invalid value encountered in multiply\n",
      "  x = np.multiply(sobel_x, observation) # apply sobel filter for edge detection\n",
      "/tmp/ipykernel_17529/2175249706.py:27: RuntimeWarning: invalid value encountered in multiply\n",
      "  y = np.multiply(sobel_y, observation) # apply sobel filter for edge detection\n"
     ]
    },
    {
     "name": "stdout",
     "output_type": "stream",
     "text": [
      "   \t      \t                    fitness                    \n",
      "   \t      \t-----------------------------------------------\n",
      "gen\tnevals\tavg   \tgen\tmax   \tmin\tnevals\tstd    \n",
      "0  \t100   \t220.58\t0  \t330.55\t100\t100   \t89.8804\n",
      "1  \t87    \t143.003\t1  \t307.05\t100\t87    \t80.757 \n",
      "2  \t81    \t139.823\t2  \t307.05\t100\t81    \t77.5987\n"
     ]
    },
    {
     "name": "stderr",
     "output_type": "stream",
     "text": [
      "/tmp/ipykernel_17529/2690056855.py:12: RuntimeWarning: invalid value encountered in double_scalars\n",
      "  return a/b\n"
     ]
    },
    {
     "name": "stdout",
     "output_type": "stream",
     "text": [
      "3  \t83    \t115.604\t3  \t309.55\t100\t83    \t51.5989\n",
      "4  \t85    \t128.17 \t4  \t326.35\t100\t85    \t70.379 \n",
      "5  \t91    \t125.408\t5  \t307.05\t100\t91    \t66.3811\n",
      "6  \t79    \t117.969\t6  \t307.05\t100\t79    \t57.4166\n",
      "7  \t85    \t132.261\t7  \t315.05\t100\t85    \t72.3058\n",
      "8  \t86    \t110.245\t8  \t306.25\t100\t86    \t42.2949\n",
      "9  \t88    \t128.297\t9  \t309.293\t100\t88    \t69.2078\n",
      "10 \t75    \t125.279\t10 \t307.05 \t100\t75    \t62.8619\n",
      "11 \t85    \t116.935\t11 \t307.05 \t100\t85    \t52.8292\n",
      "12 \t83    \t122.906\t12 \t326.35 \t100\t83    \t63.515 \n"
     ]
    },
    {
     "ename": "KeyboardInterrupt",
     "evalue": "",
     "output_type": "error",
     "traceback": [
      "\u001b[0;31m---------------------------------------------------------------------------\u001b[0m",
      "\u001b[0;31mKeyboardInterrupt\u001b[0m                         Traceback (most recent call last)",
      "\u001b[0;32m/tmp/ipykernel_17529/4041279866.py\u001b[0m in \u001b[0;36m<module>\u001b[0;34m\u001b[0m\n\u001b[1;32m     10\u001b[0m \u001b[0mmstats\u001b[0m\u001b[0;34m.\u001b[0m\u001b[0mregister\u001b[0m\u001b[0;34m(\u001b[0m\u001b[0;34m\"max\"\u001b[0m\u001b[0;34m,\u001b[0m \u001b[0mnp\u001b[0m\u001b[0;34m.\u001b[0m\u001b[0mmax\u001b[0m\u001b[0;34m)\u001b[0m\u001b[0;34m\u001b[0m\u001b[0;34m\u001b[0m\u001b[0m\n\u001b[1;32m     11\u001b[0m \u001b[0;34m\u001b[0m\u001b[0m\n\u001b[0;32m---> 12\u001b[0;31m pop, log = algorithms.eaSimple(pop, toolbox, 0.8, 0.2, 30, stats=mstats,\n\u001b[0m\u001b[1;32m     13\u001b[0m                                halloffame=hof, verbose=True)\n\u001b[1;32m     14\u001b[0m \u001b[0mdraw_graph\u001b[0m\u001b[0;34m(\u001b[0m\u001b[0mhof\u001b[0m\u001b[0;34m[\u001b[0m\u001b[0;36m0\u001b[0m\u001b[0;34m]\u001b[0m\u001b[0;34m)\u001b[0m\u001b[0;34m\u001b[0m\u001b[0;34m\u001b[0m\u001b[0m\n",
      "\u001b[0;32m~/.local/lib/python3.8/site-packages/deap/algorithms.py\u001b[0m in \u001b[0;36meaSimple\u001b[0;34m(population, toolbox, cxpb, mutpb, ngen, stats, halloffame, verbose)\u001b[0m\n\u001b[1;32m    171\u001b[0m         \u001b[0minvalid_ind\u001b[0m \u001b[0;34m=\u001b[0m \u001b[0;34m[\u001b[0m\u001b[0mind\u001b[0m \u001b[0;32mfor\u001b[0m \u001b[0mind\u001b[0m \u001b[0;32min\u001b[0m \u001b[0moffspring\u001b[0m \u001b[0;32mif\u001b[0m \u001b[0;32mnot\u001b[0m \u001b[0mind\u001b[0m\u001b[0;34m.\u001b[0m\u001b[0mfitness\u001b[0m\u001b[0;34m.\u001b[0m\u001b[0mvalid\u001b[0m\u001b[0;34m]\u001b[0m\u001b[0;34m\u001b[0m\u001b[0;34m\u001b[0m\u001b[0m\n\u001b[1;32m    172\u001b[0m         \u001b[0mfitnesses\u001b[0m \u001b[0;34m=\u001b[0m \u001b[0mtoolbox\u001b[0m\u001b[0;34m.\u001b[0m\u001b[0mmap\u001b[0m\u001b[0;34m(\u001b[0m\u001b[0mtoolbox\u001b[0m\u001b[0;34m.\u001b[0m\u001b[0mevaluate\u001b[0m\u001b[0;34m,\u001b[0m \u001b[0minvalid_ind\u001b[0m\u001b[0;34m)\u001b[0m\u001b[0;34m\u001b[0m\u001b[0;34m\u001b[0m\u001b[0m\n\u001b[0;32m--> 173\u001b[0;31m         \u001b[0;32mfor\u001b[0m \u001b[0mind\u001b[0m\u001b[0;34m,\u001b[0m \u001b[0mfit\u001b[0m \u001b[0;32min\u001b[0m \u001b[0mzip\u001b[0m\u001b[0;34m(\u001b[0m\u001b[0minvalid_ind\u001b[0m\u001b[0;34m,\u001b[0m \u001b[0mfitnesses\u001b[0m\u001b[0;34m)\u001b[0m\u001b[0;34m:\u001b[0m\u001b[0;34m\u001b[0m\u001b[0;34m\u001b[0m\u001b[0m\n\u001b[0m\u001b[1;32m    174\u001b[0m             \u001b[0mind\u001b[0m\u001b[0;34m.\u001b[0m\u001b[0mfitness\u001b[0m\u001b[0;34m.\u001b[0m\u001b[0mvalues\u001b[0m \u001b[0;34m=\u001b[0m \u001b[0mfit\u001b[0m\u001b[0;34m\u001b[0m\u001b[0;34m\u001b[0m\u001b[0m\n\u001b[1;32m    175\u001b[0m \u001b[0;34m\u001b[0m\u001b[0m\n",
      "\u001b[0;32m/tmp/ipykernel_17529/4272154984.py\u001b[0m in \u001b[0;36meval_individual\u001b[0;34m(individual, render)\u001b[0m\n\u001b[1;32m     11\u001b[0m                 \u001b[0mprint_img\u001b[0m\u001b[0;34m(\u001b[0m\u001b[0mca\u001b[0m\u001b[0;34m.\u001b[0m\u001b[0mca\u001b[0m\u001b[0;34m)\u001b[0m\u001b[0;34m\u001b[0m\u001b[0;34m\u001b[0m\u001b[0m\n\u001b[1;32m     12\u001b[0m                 \u001b[0mprint\u001b[0m\u001b[0;34m(\u001b[0m\u001b[0mca\u001b[0m\u001b[0;34m.\u001b[0m\u001b[0mloss\u001b[0m\u001b[0;34m(\u001b[0m\u001b[0mtarget_img\u001b[0m\u001b[0;34m)\u001b[0m\u001b[0;34m)\u001b[0m\u001b[0;34m\u001b[0m\u001b[0;34m\u001b[0m\u001b[0m\n\u001b[0;32m---> 13\u001b[0;31m             \u001b[0mca\u001b[0m\u001b[0;34m.\u001b[0m\u001b[0mupdate\u001b[0m\u001b[0;34m(\u001b[0m\u001b[0;34m)\u001b[0m\u001b[0;34m\u001b[0m\u001b[0;34m\u001b[0m\u001b[0m\n\u001b[0m\u001b[1;32m     14\u001b[0m \u001b[0;34m\u001b[0m\u001b[0m\n\u001b[1;32m     15\u001b[0m         \u001b[0mloss\u001b[0m \u001b[0;34m=\u001b[0m \u001b[0mca\u001b[0m\u001b[0;34m.\u001b[0m\u001b[0mloss\u001b[0m\u001b[0;34m(\u001b[0m\u001b[0mtarget_img\u001b[0m\u001b[0;34m)\u001b[0m\u001b[0;34m\u001b[0m\u001b[0;34m\u001b[0m\u001b[0m\n",
      "\u001b[0;32m/tmp/ipykernel_17529/2175249706.py\u001b[0m in \u001b[0;36mupdate\u001b[0;34m(self)\u001b[0m\n\u001b[1;32m     43\u001b[0m         \u001b[0;32mfor\u001b[0m \u001b[0mi\u001b[0m \u001b[0;32min\u001b[0m \u001b[0mrange\u001b[0m\u001b[0;34m(\u001b[0m\u001b[0mself\u001b[0m\u001b[0;34m.\u001b[0m\u001b[0mvision\u001b[0m\u001b[0;34m,\u001b[0m \u001b[0mself\u001b[0m\u001b[0;34m.\u001b[0m\u001b[0mlen\u001b[0m \u001b[0;34m-\u001b[0m \u001b[0mself\u001b[0m\u001b[0;34m.\u001b[0m\u001b[0mvision\u001b[0m\u001b[0;34m)\u001b[0m\u001b[0;34m:\u001b[0m \u001b[0;31m# skipping pad\u001b[0m\u001b[0;34m\u001b[0m\u001b[0;34m\u001b[0m\u001b[0m\n\u001b[1;32m     44\u001b[0m             \u001b[0;32mfor\u001b[0m \u001b[0mj\u001b[0m \u001b[0;32min\u001b[0m \u001b[0mrange\u001b[0m\u001b[0;34m(\u001b[0m\u001b[0mself\u001b[0m\u001b[0;34m.\u001b[0m\u001b[0mvision\u001b[0m\u001b[0;34m,\u001b[0m \u001b[0mself\u001b[0m\u001b[0;34m.\u001b[0m\u001b[0mwid\u001b[0m \u001b[0;34m-\u001b[0m \u001b[0mself\u001b[0m\u001b[0;34m.\u001b[0m\u001b[0mvision\u001b[0m\u001b[0;34m)\u001b[0m\u001b[0;34m:\u001b[0m \u001b[0;31m# skipping pad\u001b[0m\u001b[0;34m\u001b[0m\u001b[0;34m\u001b[0m\u001b[0m\n\u001b[0;32m---> 45\u001b[0;31m                 \u001b[0mnew_ca\u001b[0m\u001b[0;34m[\u001b[0m\u001b[0mi\u001b[0m\u001b[0;34m,\u001b[0m \u001b[0mj\u001b[0m\u001b[0;34m]\u001b[0m \u001b[0;34m=\u001b[0m \u001b[0mself\u001b[0m\u001b[0;34m.\u001b[0m\u001b[0mnew_cell_value\u001b[0m\u001b[0;34m(\u001b[0m\u001b[0mi\u001b[0m\u001b[0;34m,\u001b[0m \u001b[0mj\u001b[0m\u001b[0;34m)\u001b[0m\u001b[0;34m\u001b[0m\u001b[0;34m\u001b[0m\u001b[0m\n\u001b[0m\u001b[1;32m     46\u001b[0m         \u001b[0;32mif\u001b[0m \u001b[0;34m(\u001b[0m\u001b[0mnew_ca\u001b[0m \u001b[0;34m==\u001b[0m \u001b[0mself\u001b[0m\u001b[0;34m.\u001b[0m\u001b[0mca\u001b[0m\u001b[0;34m)\u001b[0m\u001b[0;34m.\u001b[0m\u001b[0mall\u001b[0m\u001b[0;34m(\u001b[0m\u001b[0;34m)\u001b[0m\u001b[0;34m:\u001b[0m\u001b[0;34m\u001b[0m\u001b[0;34m\u001b[0m\u001b[0m\n\u001b[1;32m     47\u001b[0m             \u001b[0;32mreturn\u001b[0m \u001b[0;32mFalse\u001b[0m\u001b[0;34m\u001b[0m\u001b[0;34m\u001b[0m\u001b[0m\n",
      "\u001b[0;32m/tmp/ipykernel_17529/2175249706.py\u001b[0m in \u001b[0;36mnew_cell_value\u001b[0;34m(self, i, j)\u001b[0m\n\u001b[1;32m     34\u001b[0m             \u001b[0;32mreturn\u001b[0m\u001b[0;34m\u001b[0m\u001b[0;34m\u001b[0m\u001b[0m\n\u001b[1;32m     35\u001b[0m \u001b[0;34m\u001b[0m\u001b[0m\n\u001b[0;32m---> 36\u001b[0;31m         \u001b[0mobservation\u001b[0m \u001b[0;34m=\u001b[0m \u001b[0mself\u001b[0m\u001b[0;34m.\u001b[0m\u001b[0mget_observation\u001b[0m\u001b[0;34m(\u001b[0m\u001b[0mi\u001b[0m\u001b[0;34m,\u001b[0m \u001b[0mj\u001b[0m\u001b[0;34m)\u001b[0m\u001b[0;34m\u001b[0m\u001b[0;34m\u001b[0m\u001b[0m\n\u001b[0m\u001b[1;32m     37\u001b[0m         \u001b[0;32mif\u001b[0m \u001b[0mobservation\u001b[0m\u001b[0;34m[\u001b[0m\u001b[0;36m0\u001b[0m\u001b[0;34m:\u001b[0m\u001b[0mself\u001b[0m\u001b[0;34m.\u001b[0m\u001b[0mvision_size\u001b[0m\u001b[0;34m]\u001b[0m\u001b[0;34m.\u001b[0m\u001b[0msum\u001b[0m\u001b[0;34m(\u001b[0m\u001b[0;34m)\u001b[0m \u001b[0;34m>=\u001b[0m \u001b[0;36m0.99\u001b[0m \u001b[0;34m*\u001b[0m \u001b[0mself\u001b[0m\u001b[0;34m.\u001b[0m\u001b[0mvision_size\u001b[0m\u001b[0;34m:\u001b[0m \u001b[0;31m# checking if the cell is alive\u001b[0m\u001b[0;34m\u001b[0m\u001b[0;34m\u001b[0m\u001b[0m\n\u001b[1;32m     38\u001b[0m             \u001b[0;32mreturn\u001b[0m \u001b[0;36m1.\u001b[0m\u001b[0;34m\u001b[0m\u001b[0;34m\u001b[0m\u001b[0m\n",
      "\u001b[0;32m/tmp/ipykernel_17529/2175249706.py\u001b[0m in \u001b[0;36mget_observation\u001b[0;34m(self, i, j)\u001b[0m\n\u001b[1;32m     24\u001b[0m     \u001b[0;32mdef\u001b[0m \u001b[0mget_observation\u001b[0m\u001b[0;34m(\u001b[0m\u001b[0mself\u001b[0m\u001b[0;34m,\u001b[0m \u001b[0mi\u001b[0m\u001b[0;34m,\u001b[0m \u001b[0mj\u001b[0m\u001b[0;34m)\u001b[0m\u001b[0;34m:\u001b[0m\u001b[0;34m\u001b[0m\u001b[0;34m\u001b[0m\u001b[0m\n\u001b[1;32m     25\u001b[0m         \u001b[0mobservation\u001b[0m \u001b[0;34m=\u001b[0m \u001b[0mself\u001b[0m\u001b[0;34m.\u001b[0m\u001b[0mca\u001b[0m\u001b[0;34m[\u001b[0m\u001b[0mi\u001b[0m\u001b[0;34m-\u001b[0m\u001b[0mself\u001b[0m\u001b[0;34m.\u001b[0m\u001b[0mvision\u001b[0m\u001b[0;34m:\u001b[0m\u001b[0mi\u001b[0m\u001b[0;34m+\u001b[0m\u001b[0mself\u001b[0m\u001b[0;34m.\u001b[0m\u001b[0mvision\u001b[0m\u001b[0;34m+\u001b[0m\u001b[0;36m1\u001b[0m\u001b[0;34m,\u001b[0m \u001b[0mj\u001b[0m\u001b[0;34m-\u001b[0m\u001b[0mself\u001b[0m\u001b[0;34m.\u001b[0m\u001b[0mvision\u001b[0m\u001b[0;34m:\u001b[0m\u001b[0mj\u001b[0m\u001b[0;34m+\u001b[0m\u001b[0mself\u001b[0m\u001b[0;34m.\u001b[0m\u001b[0mvision\u001b[0m\u001b[0;34m+\u001b[0m\u001b[0;36m1\u001b[0m\u001b[0;34m]\u001b[0m\u001b[0;34m\u001b[0m\u001b[0;34m\u001b[0m\u001b[0m\n\u001b[0;32m---> 26\u001b[0;31m         \u001b[0mx\u001b[0m \u001b[0;34m=\u001b[0m \u001b[0mnp\u001b[0m\u001b[0;34m.\u001b[0m\u001b[0mmultiply\u001b[0m\u001b[0;34m(\u001b[0m\u001b[0msobel_x\u001b[0m\u001b[0;34m,\u001b[0m \u001b[0mobservation\u001b[0m\u001b[0;34m)\u001b[0m \u001b[0;31m# apply sobel filter for edge detection\u001b[0m\u001b[0;34m\u001b[0m\u001b[0;34m\u001b[0m\u001b[0m\n\u001b[0m\u001b[1;32m     27\u001b[0m         \u001b[0my\u001b[0m \u001b[0;34m=\u001b[0m \u001b[0mnp\u001b[0m\u001b[0;34m.\u001b[0m\u001b[0mmultiply\u001b[0m\u001b[0;34m(\u001b[0m\u001b[0msobel_y\u001b[0m\u001b[0;34m,\u001b[0m \u001b[0mobservation\u001b[0m\u001b[0;34m)\u001b[0m \u001b[0;31m# apply sobel filter for edge detection\u001b[0m\u001b[0;34m\u001b[0m\u001b[0;34m\u001b[0m\u001b[0m\n\u001b[1;32m     28\u001b[0m         \u001b[0;32mreturn\u001b[0m \u001b[0mnp\u001b[0m\u001b[0;34m.\u001b[0m\u001b[0mappend\u001b[0m\u001b[0;34m(\u001b[0m\u001b[0mobservation\u001b[0m\u001b[0;34m.\u001b[0m\u001b[0mreshape\u001b[0m\u001b[0;34m(\u001b[0m\u001b[0;34m-\u001b[0m\u001b[0;36m1\u001b[0m\u001b[0;34m)\u001b[0m\u001b[0;34m,\u001b[0m \u001b[0;34m[\u001b[0m\u001b[0mx\u001b[0m\u001b[0;34m.\u001b[0m\u001b[0mreshape\u001b[0m\u001b[0;34m(\u001b[0m\u001b[0;34m-\u001b[0m\u001b[0;36m1\u001b[0m\u001b[0;34m)\u001b[0m\u001b[0;34m,\u001b[0m \u001b[0my\u001b[0m\u001b[0;34m.\u001b[0m\u001b[0mreshape\u001b[0m\u001b[0;34m(\u001b[0m\u001b[0;34m-\u001b[0m\u001b[0;36m1\u001b[0m\u001b[0;34m)\u001b[0m\u001b[0;34m]\u001b[0m\u001b[0;34m)\u001b[0m\u001b[0;34m\u001b[0m\u001b[0;34m\u001b[0m\u001b[0m\n",
      "\u001b[0;31mKeyboardInterrupt\u001b[0m: "
     ]
    }
   ],
   "source": [
    "pop = toolbox.population(n=100)\n",
    "hof = tools.HallOfFame(1)\n",
    "\n",
    "stats_fit = tools.Statistics(lambda ind: ind.fitness.values)\n",
    "stats_size = tools.Statistics(len)\n",
    "mstats = tools.MultiStatistics(fitness=stats_fit)\n",
    "mstats.register(\"avg\", np.mean)\n",
    "mstats.register(\"std\", np.std)\n",
    "mstats.register(\"min\", np.min)\n",
    "mstats.register(\"max\", np.max)\n",
    "\n",
    "pop, log = algorithms.eaSimple(pop, toolbox, 0.8, 0.2, 30, stats=mstats,\n",
    "                               halloffame=hof, verbose=True)\n",
    "draw_graph(hof[0])\n",
    "eval_individual(hof[0], True)"
   ]
  },
  {
   "cell_type": "code",
   "execution_count": 11,
   "id": "f16aeea2",
   "metadata": {},
   "outputs": [
    {
     "data": {
      "image/png": "[encoded data removed]",
      "text/plain": [
       "<Figure size 288x288 with 1 Axes>"
      ]
     },
     "metadata": {
      "needs_background": "light"
     },
     "output_type": "display_data"
    },
    {
     "name": "stdout",
     "output_type": "stream",
     "text": [
      "306.0499999999998\n"
     ]
    },
    {
     "data": {
      "image/png": "[encoded data removed]",
      "text/plain": [
       "<Figure size 288x288 with 1 Axes>"
      ]
     },
     "metadata": {
      "needs_background": "light"
     },
     "output_type": "display_data"
    },
    {
     "name": "stdout",
     "output_type": "stream",
     "text": [
      "100\n"
     ]
    },
    {
     "data": {
      "image/png": "[encoded data removed]",
      "text/plain": [
       "<Figure size 288x288 with 1 Axes>"
      ]
     },
     "metadata": {
      "needs_background": "light"
     },
     "output_type": "display_data"
    },
    {
     "name": "stdout",
     "output_type": "stream",
     "text": [
      "100\n"
     ]
    },
    {
     "data": {
      "image/png": "[encoded data removed]",
      "text/plain": [
       "<Figure size 288x288 with 1 Axes>"
      ]
     },
     "metadata": {
      "needs_background": "light"
     },
     "output_type": "display_data"
    },
    {
     "name": "stdout",
     "output_type": "stream",
     "text": [
      "100\n"
     ]
    },
    {
     "data": {
      "image/png": "[encoded data removed]",
      "text/plain": [
       "<Figure size 288x288 with 1 Axes>"
      ]
     },
     "metadata": {
      "needs_background": "light"
     },
     "output_type": "display_data"
    },
    {
     "name": "stdout",
     "output_type": "stream",
     "text": [
      "100\n"
     ]
    },
    {
     "data": {
      "image/png": "[encoded data removed]",
      "text/plain": [
       "<Figure size 288x288 with 1 Axes>"
      ]
     },
     "metadata": {
      "needs_background": "light"
     },
     "output_type": "display_data"
    },
    {
     "name": "stdout",
     "output_type": "stream",
     "text": [
      "100\n"
     ]
    },
    {
     "data": {
      "image/png": "[encoded data removed]",
      "text/plain": [
       "<Figure size 288x288 with 1 Axes>"
      ]
     },
     "metadata": {
      "needs_background": "light"
     },
     "output_type": "display_data"
    },
    {
     "name": "stdout",
     "output_type": "stream",
     "text": [
      "100\n"
     ]
    },
    {
     "data": {
      "image/png": "[encoded data removed]",
      "text/plain": [
       "<Figure size 288x288 with 1 Axes>"
      ]
     },
     "metadata": {
      "needs_background": "light"
     },
     "output_type": "display_data"
    },
    {
     "name": "stdout",
     "output_type": "stream",
     "text": [
      "100\n"
     ]
    },
    {
     "data": {
      "image/png": "[encoded data removed]",
      "text/plain": [
       "<Figure size 288x288 with 1 Axes>"
      ]
     },
     "metadata": {
      "needs_background": "light"
     },
     "output_type": "display_data"
    },
    {
     "name": "stdout",
     "output_type": "stream",
     "text": [
      "100\n"
     ]
    },
    {
     "data": {
      "image/png": "[encoded data removed]",
      "text/plain": [
       "<Figure size 288x288 with 1 Axes>"
      ]
     },
     "metadata": {
      "needs_background": "light"
     },
     "output_type": "display_data"
    },
    {
     "name": "stdout",
     "output_type": "stream",
     "text": [
      "100\n"
     ]
    },
    {
     "data": {
      "text/plain": [
       "(100.0,)"
      ]
     },
     "execution_count": 11,
     "metadata": {},
     "output_type": "execute_result"
    }
   ],
   "source": [
    "eval_individual(hof[0], True)"
   ]
  },
  {
   "cell_type": "code",
   "execution_count": null,
   "id": "67f838c8",
   "metadata": {},
   "outputs": [],
   "source": []
  }
 ],
 "metadata": {
  "kernelspec": {
   "display_name": "Python 3 (ipykernel)",
   "language": "python",
   "name": "python3"
  },
  "language_info": {
   "codemirror_mode": {
    "name": "ipython",
    "version": 3
   },
   "file_extension": ".py",
   "mimetype": "text/x-python",
   "name": "python",
   "nbconvert_exporter": "python",
   "pygments_lexer": "ipython3",
   "version": "3.8.10"
  }
 },
 "nbformat": 4,
 "nbformat_minor": 5
}

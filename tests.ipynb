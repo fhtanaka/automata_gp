{
 "cells": [
  {
   "cell_type": "code",
   "execution_count": 11,
   "id": "03efe345-d220-4e08-abdd-e67fe1948d2e",
   "metadata": {},
   "outputs": [],
   "source": [
    "import matplotlib.pyplot as plt\n",
    "import numpy as np\n",
    "from time import sleep\n",
    "from ipycanvas import Canvas, hold_canvas\n",
    "from bw_images import *"
   ]
  },
  {
   "cell_type": "code",
   "execution_count": 12,
   "id": "15ad7153-34de-4f72-a5bc-e7484495e42a",
   "metadata": {},
   "outputs": [],
   "source": [
    "def scale_matrix(matrix, scale):\n",
    "    return np.kron(matrix, np.ones((scale,scale)))"
   ]
  },
  {
   "cell_type": "code",
   "execution_count": 13,
   "id": "53852d8d-2196-41ea-ad5b-542916e1d334",
   "metadata": {},
   "outputs": [
    {
     "data": {
      "application/vnd.jupyter.widget-view+json": {
       "model_id": "a85c1407e937450b9034f8af4e206e7b",
       "version_major": 2,
       "version_minor": 0
      },
      "text/plain": [
       "Canvas(height=125, width=125)"
      ]
     },
     "metadata": {},
     "output_type": "display_data"
    }
   ],
   "source": [
    "scale = 5\n",
    "img = np.full((25, 25), 0)\n",
    "\n",
    "canvas = Canvas(width=25*scale, height=25*scale)\n",
    "\n",
    "display(canvas)\n",
    "for i in range(256):\n",
    "    with hold_canvas(canvas):\n",
    "        # Clear the old animation step\n",
    "        canvas.clear()\n",
    "        # Perfom all your drawings here\n",
    "        img = np.full((25, 25), i)\n",
    "        img = scale_matrix(img, scale)\n",
    "        _ = canvas.put_image_data(img, 0, 0)\n",
    "\n",
    "    # Animation frequency ~50Hz = 1./50. seconds\n",
    "    sleep(1/100)"
   ]
  },
  {
   "cell_type": "code",
   "execution_count": 16,
   "id": "6efe16e2-accb-4fee-aa15-ebd5e7085704",
   "metadata": {},
   "outputs": [
    {
     "data": {
      "image/png": "[encoded data removed]",
      "text/plain": [
       "<Figure size 360x360 with 1 Axes>"
      ]
     },
     "metadata": {
      "needs_background": "light"
     },
     "output_type": "display_data"
    }
   ],
   "source": [
    "img = degrade_img(25)\n",
    "plt.figure(figsize=(scale, scale))\n",
    "plt.imshow(img, cmap='gray', vmin=0, vmax=255)\n",
    "plt.show()"
   ]
  },
  {
   "cell_type": "code",
   "execution_count": null,
   "id": "a7e4b637-e7df-49e0-b1c9-ddd7add7ccd3",
   "metadata": {},
   "outputs": [],
   "source": []
  }
 ],
 "metadata": {
  "kernelspec": {
   "display_name": "Python 3 (ipykernel)",
   "language": "python",
   "name": "python3"
  },
  "language_info": {
   "codemirror_mode": {
    "name": "ipython",
    "version": 3
   },
   "file_extension": ".py",
   "mimetype": "text/x-python",
   "name": "python",
   "nbconvert_exporter": "python",
   "pygments_lexer": "ipython3",
   "version": "3.8.8"
  }
 },
 "nbformat": 4,
 "nbformat_minor": 5
}

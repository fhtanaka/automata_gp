{
 "cells": [
  {
   "cell_type": "code",
   "execution_count": 50,
   "metadata": {},
   "outputs": [],
   "source": [
    "import numpy as np\n",
    "from cgp.graph import Graph\n",
    "from cgp.population import Population\n",
    "from automata import CA_2D_model\n",
    "from bw_images import *\n",
    "from arg_parser import parse_args"
   ]
  },
  {
   "cell_type": "code",
   "execution_count": 51,
   "metadata": {},
   "outputs": [],
   "source": [
    "from time import sleep, time\n",
    "from ipycanvas import Canvas, hold_canvas\n",
    "import dill"
   ]
  },
  {
   "cell_type": "code",
   "execution_count": 52,
   "metadata": {},
   "outputs": [],
   "source": [
    "POPULATION = 128\n",
    "APPLY_SOBEL_FILTER = False\n",
    "VISION = 1\n",
    "N_TOTAL_STEPS = 20\n",
    "GENS = 50\n",
    "SAVETO = None\n",
    "RENDER = False\n",
    "EXTRA_LAYERS = 1\n",
    "GEN_CHAMPIONS = 64\n",
    "FITNESS_GOAL = 0"
   ]
  },
  {
   "cell_type": "code",
   "execution_count": 53,
   "metadata": {},
   "outputs": [
    {
     "data": {
      "image/png": "[encoded data removed]",
      "text/plain": [
       "<Figure size 288x288 with 1 Axes>"
      ]
     },
     "metadata": {
      "needs_background": "light"
     },
     "output_type": "display_data"
    }
   ],
   "source": [
    "img_size = 15\n",
    "# TARGET_IMG = column_img(img_size)\n",
    "TARGET_IMG = plus_img(img_size)\n",
    "# TARGET_IMG = degrade_img(img_size)\n",
    "# TARGET_IMG = one_color_img(img_size, 0)\n",
    "# TARGET_IMG = x_img(img_size)\n",
    "# TARGET_IMG = diagonal_img(img_size)\n",
    "# TARGET_IMG = load_emoji(command_line_args.img)\n",
    "print_img(TARGET_IMG)"
   ]
  },
  {
   "cell_type": "code",
   "execution_count": 54,
   "metadata": {},
   "outputs": [],
   "source": [
    "input_size = (VISION+2)**2\n",
    "if APPLY_SOBEL_FILTER:\n",
    "    input_size *= 3"
   ]
  },
  {
   "cell_type": "code",
   "execution_count": 55,
   "metadata": {},
   "outputs": [],
   "source": [
    "import networkx as nx\n",
    "def draw_graph(gr, only_active = True):\n",
    "    plt.rcParams[\"figure.figsize\"] = (15,20)\n",
    "    graph = nx.Graph()\n",
    "    pos = {}\n",
    "    labels = {}\n",
    "    color_dict = {\n",
    "        0: \"tab:purple\",\n",
    "        1: \"tab:red\",\n",
    "        3: \"tab:olive\",\n",
    "        2: \"tab:orange\",\n",
    "        4: \"tab:green\",\n",
    "        5: \"tab:blue\",\n",
    "    }\n",
    "\n",
    "    col_num = len(gr.columns) - 1\n",
    "    for col in reversed(gr.columns):\n",
    "        row = 0\n",
    "        for n_id in col:\n",
    "            node = gr.nodes[n_id]\n",
    "            if only_active and not node.active:\n",
    "                continue\n",
    "            pos[node.id] = (col_num, row)\n",
    "\n",
    "            if col_num == 0:\n",
    "                labels[node.id] = \"In_\" + str(row)\n",
    "            elif col_num == len(gr.columns)-1:\n",
    "                labels[node.id] = \"Out_\" + str(row)\n",
    "            elif node.operation != None:\n",
    "                labels[node.id] = node.operation.string\n",
    "            \n",
    "            graph.add_node(node.id)\n",
    "            for input in node.inputs:\n",
    "                graph.add_edge(input, node.id, color=color_dict[col_num%len(color_dict)])\n",
    "    \n",
    "            row += 1\n",
    "        col_num -= 1\n",
    "    \n",
    "    options = {\n",
    "        \"font_size\": 12,\n",
    "        \"node_size\": 1800,\n",
    "        \"node_color\": \"white\",\n",
    "        \"edgecolors\": \"black\",\n",
    "        \"edge_color\": nx.get_edge_attributes(graph,'color').values(),\n",
    "        \"linewidths\": 2,\n",
    "        \"width\": 2,\n",
    "        \"labels\": labels,\n",
    "        \"pos\": pos\n",
    "    }\n",
    "    nx.draw_networkx(graph, **options)\n",
    "#     nx.draw_networkx(graph, pos)\n",
    "\n",
    "    # Set margins for the axes so that nodes aren't clipped\n",
    "    ax = plt.gca()\n",
    "    ax.margins(0.20)\n",
    "    plt.axis(\"off\")\n",
    "    plt.show()"
   ]
  },
  {
   "cell_type": "code",
   "execution_count": 56,
   "metadata": {},
   "outputs": [],
   "source": [
    "seed = 2002\n",
    "Graph.rng = np.random.RandomState(seed)"
   ]
  },
  {
   "cell_type": "code",
   "execution_count": 57,
   "metadata": {},
   "outputs": [],
   "source": [
    "# addition = lambda x, y: x+y\n",
    "# multiplication = lambda x, y: x*y\n",
    "# subtraction = lambda x, y: x-y\n",
    "# constant = lambda x: x\n",
    "# protected_div = lambda x, y: 1 if y == 0 else x/y\n",
    "# increment = lambda x: x+1\n",
    "# invert = lambda x: -x\n",
    "\n",
    "# Population.add_operation(arity=1, func=lambda x: 1, string=\"1\")\n",
    "# Population.add_operation(arity=1, func=lambda x: .5, string=\"0.5\")\n",
    "# Population.add_operation(arity=1, func=lambda x: .1, string=\"0.1\")\n",
    "# Population.add_operation(arity=1, func=constant, string=\"x\")\n",
    "# Population.add_operation(arity=1, func=increment, string=\"x+1\")\n",
    "# Population.add_operation(arity=1, func=invert, string=\"-x\")\n",
    "# Population.add_operation(arity=2, func=addition, string=\"x+y\")\n",
    "# Population.add_operation(arity=2, func=multiplication, string=\"x*y\")\n",
    "# Population.add_operation(arity=2, func=subtraction, string=\"x-y\")\n",
    "# Population.add_operation(arity=2, func=protected_div, string=\"*x/y\")"
   ]
  },
  {
   "cell_type": "code",
   "execution_count": 58,
   "metadata": {},
   "outputs": [],
   "source": [
    "def op_and(*args):\n",
    "    for inp in args:\n",
    "        if inp == WHITE:\n",
    "            return WHITE\n",
    "    return BLACK\n",
    "\n",
    "def op_or(*args):\n",
    "    for inp in args:\n",
    "        if inp == BLACK:\n",
    "            return BLACK\n",
    "    return WHITE\n",
    "\n",
    "def op_xor(*args):\n",
    "    cont = 0\n",
    "    for inp in args:\n",
    "        if inp == BLACK:\n",
    "            cont += 1\n",
    "    if cont == 0 or cont == len(args):\n",
    "        return WHITE\n",
    "    return BLACK\n",
    "\n",
    "def op_nand(*args):\n",
    "    for inp in args:\n",
    "        if inp == WHITE:\n",
    "            return BLACK\n",
    "    return WHITE\n",
    "\n",
    "def op_nor(*args):\n",
    "    for inp in args:\n",
    "        if inp == BLACK:\n",
    "            return WHITE\n",
    "    return BLACK\n",
    "\n",
    "def op_not(x):\n",
    "    if x == WHITE:\n",
    "        return BLACK\n",
    "    else:\n",
    "        return WHITE\n",
    "\n",
    "def cte(x):\n",
    "    return x"
   ]
  },
  {
   "cell_type": "code",
   "execution_count": 59,
   "metadata": {},
   "outputs": [
    {
     "name": "stdout",
     "output_type": "stream",
     "text": [
      "Operation 'and2' already exists, overwrinting old operation\n",
      "Operation 'or2' already exists, overwrinting old operation\n",
      "Operation 'xor2' already exists, overwrinting old operation\n",
      "Operation 'nand2' already exists, overwrinting old operation\n",
      "Operation 'nor2' already exists, overwrinting old operation\n",
      "Operation 'and3' already exists, overwrinting old operation\n",
      "Operation 'or3' already exists, overwrinting old operation\n",
      "Operation 'xor3' already exists, overwrinting old operation\n",
      "Operation 'nand3' already exists, overwrinting old operation\n",
      "Operation 'nor3' already exists, overwrinting old operation\n",
      "Operation 'and4' already exists, overwrinting old operation\n",
      "Operation 'or4' already exists, overwrinting old operation\n",
      "Operation 'xor4' already exists, overwrinting old operation\n",
      "Operation 'nand4' already exists, overwrinting old operation\n",
      "Operation 'nor4' already exists, overwrinting old operation\n",
      "Operation 'and5' already exists, overwrinting old operation\n",
      "Operation 'or5' already exists, overwrinting old operation\n",
      "Operation 'xor5' already exists, overwrinting old operation\n",
      "Operation 'nand5' already exists, overwrinting old operation\n",
      "Operation 'nor5' already exists, overwrinting old operation\n",
      "Operation 'and6' already exists, overwrinting old operation\n",
      "Operation 'or6' already exists, overwrinting old operation\n",
      "Operation 'xor6' already exists, overwrinting old operation\n",
      "Operation 'nand6' already exists, overwrinting old operation\n",
      "Operation 'nor6' already exists, overwrinting old operation\n",
      "Operation 'and7' already exists, overwrinting old operation\n",
      "Operation 'or7' already exists, overwrinting old operation\n",
      "Operation 'xor7' already exists, overwrinting old operation\n",
      "Operation 'nand7' already exists, overwrinting old operation\n",
      "Operation 'nor7' already exists, overwrinting old operation\n",
      "Operation 'and8' already exists, overwrinting old operation\n",
      "Operation 'or8' already exists, overwrinting old operation\n",
      "Operation 'xor8' already exists, overwrinting old operation\n",
      "Operation 'nand8' already exists, overwrinting old operation\n",
      "Operation 'nor8' already exists, overwrinting old operation\n",
      "Operation 'not' already exists, overwrinting old operation\n",
      "Operation 'cte' already exists, overwrinting old operation\n"
     ]
    }
   ],
   "source": [
    "for i in range(2, 9):\n",
    "    Population.add_operation(arity=i, func=op_and, string=(\"and\"+str(i)))\n",
    "    Population.add_operation(arity=i, func=op_or, string=(\"or\"+str(i)))\n",
    "    Population.add_operation(arity=i, func=op_xor, string=(\"xor\"+str(i)))\n",
    "    Population.add_operation(arity=i, func=op_nand, string=(\"nand\"+str(i)))\n",
    "    Population.add_operation(arity=i, func=op_nor, string=(\"nor\"+str(i)))\n",
    "Population.add_operation(arity=1, func=op_not, string=\"not\")\n",
    "Population.add_operation(arity=1, func=cte, string=\"cte\")"
   ]
  },
  {
   "cell_type": "code",
   "execution_count": 60,
   "metadata": {},
   "outputs": [],
   "source": [
    "def eval_individual(individual: Graph, target_image, layers, render=False):\n",
    "    shape = target_image.shape\n",
    "    ca = CA_2D_model(shape[0], shape[1], individual.operate, layers)\n",
    "    \n",
    "    total_fitness = 0.0\n",
    "    ca.reset_ca()\n",
    "\n",
    "    for _ in range(N_TOTAL_STEPS):\n",
    "        if render:\n",
    "            print(ca.fitness(target_image)/(255*255))\n",
    "            print_img(ca.remove_pad())\n",
    "        update = ca.update()\n",
    "        if not update: # the automata got stable\n",
    "            break\n",
    "    if ca.ca[0, :, :].sum() >= ca.len*ca.len*255:\n",
    "        return 1000\n",
    "    total_fitness += ca.fitness(target_image)/(255*255)\n",
    "\n",
    "    fitness = (total_fitness) \n",
    "    return fitness"
   ]
  },
  {
   "cell_type": "code",
   "execution_count": 61,
   "metadata": {},
   "outputs": [],
   "source": [
    "def test_image(target_img, test_name, fit_func, report_interval = 10):\n",
    "    print(\"******************************** \", test_name,\" ****************************\")\n",
    "    # def fit_func(x):\n",
    "    #     return eval_individual(x, target_img, total_layers)\n",
    "\n",
    "    # test_images.print_img(TARGET_IMG)\n",
    "    total_layers = 1 + EXTRA_LAYERS\n",
    "    input_size = (VISION+2)**2\n",
    "\n",
    "    population = Population(\n",
    "        population_size=POPULATION,\n",
    "        n_in=total_layers*input_size,\n",
    "        n_out=total_layers,\n",
    "        n_row=2,\n",
    "        n_col=4,\n",
    "        levels_back=5,\n",
    "        mutation_strategy=\"point\",\n",
    "        fitness_func=fit_func,\n",
    "        minimize_fitness=True,\n",
    "        point_mut_qnt=8,\n",
    "        prob_mut_chance=.25,\n",
    "        mutate_active_only=False\n",
    "    )\n",
    "\n",
    "    start = time()\n",
    "    population.one_plus_lamda(GENS, GEN_CHAMPIONS, FITNESS_GOAL, report=report_interval)\n",
    "    end = time()\n",
    "    print(\"Execution time: \", end - start)\n",
    "    population.save_pop(test_name+\"3.pkl\")"
   ]
  },
  {
   "cell_type": "code",
   "execution_count": 62,
   "metadata": {},
   "outputs": [],
   "source": [
    "# test_images.print_img(TARGET_IMG)\n",
    "total_layers = 1 + EXTRA_LAYERS\n",
    "def fit_func(x):\n",
    "    return eval_individual(x, plus_img(img_size), total_layers)\n",
    "population = Population(\n",
    "    population_size=POPULATION,\n",
    "    n_in=total_layers*input_size,\n",
    "    n_out=total_layers,\n",
    "    n_row=6,\n",
    "    n_col=8,\n",
    "    levels_back=8,\n",
    "    mutation_strategy=\"point\",\n",
    "    fitness_func=fit_func,\n",
    "    minimize_fitness=True,\n",
    "    point_mut_qnt=32,\n",
    "    prob_mut_chance=.1,\n",
    "    mutate_active_only=False\n",
    ")"
   ]
  },
  {
   "cell_type": "code",
   "execution_count": 63,
   "metadata": {},
   "outputs": [
    {
     "name": "stdout",
     "output_type": "stream",
     "text": [
      "2\n"
     ]
    },
    {
     "data": {
      "image/png": "[encoded data removed]",
      "text/plain": [
       "<Figure size 1080x1440 with 1 Axes>"
      ]
     },
     "metadata": {},
     "output_type": "display_data"
    }
   ],
   "source": [
    "print(total_layers)\n",
    "draw_graph (population.indvs[2], True)\n",
    "population.save_pop(\"aaa.pkl\")"
   ]
  },
  {
   "cell_type": "code",
   "execution_count": null,
   "metadata": {},
   "outputs": [
    {
     "name": "stdout",
     "output_type": "stream",
     "text": [
      "generation  0 :  21.0\n",
      "generation  1 :  21.0\n",
      "generation  2 :  21.0\n",
      "generation  3 :  21.0\n",
      "generation  4 :  14.0\n",
      "generation  5 :  14.0\n",
      "generation  6 :  14.0\n",
      "generation  7 :  14.0\n",
      "generation  8 :  14.0\n",
      "generation  9 :  14.0\n",
      "generation  10 :  14.0\n",
      "generation  11 :  14.0\n",
      "generation  12 :  14.0\n",
      "generation  13 :  14.0\n",
      "generation  14 :  14.0\n",
      "generation  15 :  14.0\n",
      "generation  16 :  14.0\n",
      "generation  17 :  14.0\n",
      "generation  18 :  14.0\n",
      "generation  19 :  14.0\n",
      "generation  20 :  14.0\n",
      "generation  21 :  14.0\n",
      "generation  22 :  14.0\n",
      "generation  23 :  14.0\n",
      "generation  24 :  14.0\n",
      "generation  25 :  14.0\n",
      "generation  26 :  14.0\n",
      "generation  27 :  14.0\n",
      "generation  28 :  14.0\n",
      "generation  29 :  14.0\n",
      "generation  30 :  14.0\n",
      "generation  31 :  14.0\n",
      "generation  32 :  14.0\n",
      "generation  33 :  14.0\n",
      "generation  34 :  14.0\n",
      "generation  35 :  14.0\n",
      "generation  36 :  14.0\n",
      "generation  37 :  14.0\n",
      "generation  38 :  14.0\n",
      "generation  39 :  14.0\n",
      "generation  40 :  14.0\n",
      "generation  41 :  14.0\n",
      "generation  42 :  14.0\n",
      "generation  43 :  14.0\n",
      "generation  44 :  14.0\n",
      "generation  45 :  14.0\n",
      "generation  46 :  14.0\n",
      "generation  47 :  14.0\n",
      "generation  48 :  14.0\n",
      "generation  49 :  14.0\n",
      "generation  50 :  14.0\n",
      "generation  51 :  14.0\n",
      "generation  52 :  14.0\n",
      "generation  53 :  14.0\n",
      "generation  54 :  14.0\n",
      "generation  55 :  14.0\n",
      "generation  56 :  14.0\n",
      "generation  57 :  14.0\n",
      "generation  58 :  14.0\n",
      "generation  59 :  14.0\n",
      "generation  60 :  14.0\n",
      "generation  61 :  14.0\n",
      "generation  62 :  14.0\n",
      "generation  63 :  14.0\n",
      "generation  64 :  14.0\n",
      "generation  65 :  14.0\n",
      "generation  66 :  14.0\n",
      "generation  67 :  14.0\n",
      "generation  68 :  14.0\n",
      "generation  69 :  14.0\n",
      "generation  70 :  14.0\n",
      "generation  71 :  14.0\n",
      "generation  72 :  14.0\n",
      "generation  73 :  14.0\n",
      "generation  74 :  14.0\n",
      "generation  75 :  14.0\n",
      "generation  76 :  14.0\n",
      "generation  77 :  14.0\n",
      "generation  78 :  14.0\n",
      "generation  79 :  14.0\n",
      "generation  80 :  14.0\n",
      "generation  81 :  14.0\n",
      "generation  82 :  14.0\n",
      "generation  83 :  14.0\n",
      "generation  84 :  14.0\n",
      "generation  85 :  14.0\n",
      "generation  86 :  14.0\n",
      "generation  87 :  14.0\n",
      "generation  88 :  14.0\n",
      "generation  89 :  14.0\n",
      "generation  90 :  14.0\n",
      "generation  91 :  14.0\n",
      "generation  92 :  14.0\n",
      "generation  93 :  14.0\n",
      "generation  94 :  14.0\n",
      "generation  95 :  14.0\n",
      "generation  96 :  14.0\n",
      "generation  97 :  14.0\n",
      "generation  98 :  14.0\n",
      "generation  99 :  14.0\n",
      "generation  100 :  14.0\n",
      "generation  101 :  14.0\n",
      "generation  102 :  14.0\n",
      "generation  103 :  14.0\n",
      "generation  104 :  14.0\n",
      "generation  105 :  14.0\n",
      "generation  106 :  14.0\n",
      "generation  107 :  14.0\n",
      "generation  108 :  14.0\n",
      "generation  109 :  14.0\n",
      "generation  110 :  14.0\n",
      "generation  111 :  14.0\n",
      "generation  112 :  14.0\n",
      "generation  113 :  14.0\n",
      "generation  114 :  14.0\n",
      "generation  115 :  14.0\n",
      "generation  116 :  14.0\n",
      "generation  117 :  14.0\n",
      "generation  118 :  14.0\n",
      "generation  119 :  14.0\n",
      "generation  120 :  14.0\n",
      "generation  121 :  14.0\n",
      "generation  122 :  14.0\n",
      "generation  123 :  14.0\n",
      "generation  124 :  14.0\n",
      "generation  125 :  14.0\n",
      "generation  126 :  14.0\n",
      "generation  127 :  14.0\n",
      "generation  128 :  14.0\n",
      "generation  129 :  14.0\n",
      "generation  130 :  14.0\n",
      "generation  131 :  14.0\n",
      "generation  132 :  14.0\n",
      "generation  133 :  14.0\n",
      "generation  134 :  14.0\n",
      "generation  135 :  14.0\n",
      "generation  136 :  14.0\n",
      "generation  137 :  14.0\n",
      "generation  138 :  14.0\n",
      "generation  139 :  14.0\n",
      "generation  140 :  14.0\n",
      "generation  141 :  14.0\n",
      "generation  142 :  14.0\n",
      "generation  143 :  14.0\n",
      "generation  144 :  14.0\n",
      "generation  145 :  14.0\n",
      "generation  146 :  14.0\n",
      "generation  147 :  14.0\n",
      "generation  148 :  14.0\n",
      "generation  149 :  14.0\n",
      "generation  150 :  14.0\n",
      "generation  151 :  14.0\n",
      "generation  152 :  14.0\n",
      "generation  153 :  14.0\n",
      "generation  154 :  14.0\n",
      "generation  155 :  14.0\n",
      "generation  156 :  14.0\n",
      "generation  157 :  14.0\n",
      "generation  158 :  14.0\n",
      "generation  159 :  14.0\n",
      "generation  160 :  14.0\n",
      "generation  161 :  14.0\n",
      "generation  162 :  14.0\n",
      "generation  163 :  14.0\n",
      "generation  164 :  14.0\n",
      "generation  165 :  14.0\n",
      "generation  166 :  14.0\n",
      "generation  167 :  14.0\n",
      "generation  168 :  14.0\n",
      "generation  169 :  14.0\n",
      "generation  170 :  14.0\n",
      "generation  171 :  14.0\n",
      "generation  172 :  14.0\n",
      "generation  173 :  14.0\n",
      "generation  174 :  14.0\n",
      "generation  175 :  14.0\n",
      "generation  176 :  14.0\n",
      "generation  177 :  14.0\n",
      "generation  178 :  14.0\n",
      "generation  179 :  14.0\n",
      "generation  180 :  14.0\n",
      "generation  181 :  14.0\n",
      "generation  182 :  14.0\n",
      "generation  183 :  14.0\n",
      "generation  184 :  14.0\n",
      "generation  185 :  14.0\n",
      "generation  186 :  14.0\n",
      "generation  187 :  14.0\n",
      "generation  188 :  14.0\n",
      "generation  189 :  14.0\n",
      "generation  190 :  14.0\n",
      "generation  191 :  14.0\n",
      "generation  192 :  14.0\n",
      "generation  193 :  14.0\n",
      "generation  194 :  14.0\n",
      "generation  195 :  14.0\n",
      "generation  196 :  14.0\n",
      "generation  197 :  14.0\n",
      "generation  198 :  14.0\n",
      "generation  199 :  14.0\n",
      "generation  200 :  14.0\n",
      "generation  201 :  14.0\n",
      "generation  202 :  14.0\n",
      "generation  203 :  14.0\n",
      "generation  204 :  14.0\n",
      "generation  205 :  14.0\n",
      "generation  206 :  14.0\n",
      "generation  207 :  14.0\n",
      "generation  208 :  14.0\n",
      "generation  209 :  14.0\n",
      "generation  210 :  14.0\n",
      "generation  211 :  14.0\n",
      "generation  212 :  14.0\n",
      "generation  213 :  14.0\n",
      "generation  214 :  14.0\n",
      "generation  215 :  14.0\n",
      "generation  216 :  14.0\n",
      "generation  217 :  14.0\n",
      "generation  218 :  14.0\n",
      "generation  219 :  14.0\n",
      "generation  220 :  14.0\n",
      "generation  221 :  14.0\n",
      "generation  222 :  14.0\n",
      "generation  223 :  14.0\n",
      "generation  224 :  14.0\n",
      "generation  225 :  14.0\n",
      "generation  226 :  14.0\n",
      "generation  227 :  14.0\n",
      "generation  228 :  14.0\n",
      "generation  229 :  14.0\n",
      "generation  230 :  14.0\n",
      "generation  231 :  14.0\n",
      "generation  232 :  14.0\n",
      "generation  233 :  14.0\n",
      "generation  234 :  14.0\n",
      "generation  235 :  14.0\n",
      "generation  236 :  14.0\n",
      "generation  237 :  14.0\n",
      "generation  238 :  14.0\n",
      "generation  239 :  14.0\n",
      "generation  240 :  14.0\n",
      "generation  241 :  14.0\n",
      "generation  242 :  14.0\n",
      "generation  243 :  14.0\n",
      "generation  244 :  14.0\n",
      "generation  245 :  14.0\n",
      "generation  246 :  14.0\n",
      "generation  247 :  14.0\n",
      "generation  248 :  14.0\n",
      "generation  249 :  14.0\n",
      "generation  250 :  14.0\n",
      "generation  251 :  14.0\n",
      "generation  252 :  14.0\n",
      "generation  253 :  14.0\n",
      "generation  254 :  14.0\n",
      "generation  255 :  14.0\n",
      "generation  256 :  14.0\n",
      "generation  257 :  14.0\n",
      "generation  258 :  14.0\n",
      "generation  259 :  14.0\n",
      "generation  260 :  14.0\n",
      "generation  261 :  14.0\n",
      "generation  262 :  14.0\n",
      "generation  263 :  14.0\n",
      "generation  264 :  14.0\n",
      "generation  265 :  14.0\n",
      "generation  266 :  14.0\n",
      "generation  267 :  14.0\n",
      "generation  268 :  14.0\n",
      "generation  269 :  14.0\n",
      "generation  270 :  14.0\n",
      "generation  271 :  14.0\n",
      "generation  272 :  14.0\n",
      "generation  273 :  14.0\n",
      "generation  274 :  14.0\n",
      "generation  275 :  14.0\n",
      "generation  276 :  14.0\n",
      "generation  277 :  14.0\n",
      "generation  278 :  14.0\n",
      "generation  279 :  14.0\n",
      "generation  280 :  14.0\n",
      "generation  281 :  14.0\n",
      "generation  282 :  14.0\n",
      "generation  283 :  14.0\n",
      "generation  284 :  14.0\n",
      "generation  285 :  14.0\n",
      "generation  286 :  14.0\n",
      "generation  287 :  14.0\n",
      "generation  288 :  14.0\n",
      "generation  289 :  14.0\n",
      "generation  290 :  14.0\n",
      "generation  291 :  14.0\n",
      "generation  292 :  14.0\n",
      "generation  293 :  14.0\n",
      "generation  294 :  14.0\n",
      "generation  295 :  14.0\n",
      "generation  296 :  14.0\n",
      "generation  297 :  14.0\n",
      "generation  298 :  14.0\n",
      "generation  299 :  14.0\n",
      "generation  300 :  14.0\n",
      "generation  301 :  14.0\n",
      "generation  302 :  14.0\n",
      "generation  303 :  14.0\n",
      "generation  304 :  14.0\n",
      "generation  305 :  14.0\n",
      "generation  306 :  14.0\n",
      "generation  307 :  14.0\n",
      "generation  308 :  14.0\n",
      "generation  309 :  14.0\n",
      "generation  310 :  14.0\n",
      "generation  311 :  14.0\n",
      "generation  312 :  14.0\n",
      "generation  313 :  14.0\n",
      "generation  314 :  14.0\n",
      "generation  315 :  14.0\n",
      "generation  316 :  14.0\n",
      "generation  317 :  14.0\n",
      "generation  318 :  14.0\n",
      "generation  319 :  14.0\n",
      "generation  320 :  14.0\n",
      "generation  321 :  14.0\n",
      "generation  322 :  14.0\n",
      "generation  323 :  14.0\n",
      "generation  324 :  14.0\n",
      "generation  325 :  14.0\n",
      "generation  326 :  14.0\n",
      "generation  327 :  14.0\n",
      "generation  328 :  14.0\n",
      "generation  329 :  14.0\n",
      "generation  330 :  14.0\n",
      "generation  331 :  14.0\n",
      "generation  332 :  14.0\n",
      "generation  333 :  14.0\n",
      "generation  334 :  14.0\n",
      "generation  335 :  14.0\n",
      "generation  336 :  14.0\n",
      "generation  337 :  14.0\n",
      "generation  338 :  14.0\n",
      "generation  339 :  14.0\n",
      "generation  340 :  14.0\n",
      "generation  341 :  14.0\n",
      "generation  342 :  14.0\n",
      "generation  343 :  14.0\n",
      "generation  344 :  14.0\n",
      "generation  345 :  14.0\n",
      "generation  346 :  14.0\n",
      "generation  347 :  14.0\n",
      "generation  348 :  14.0\n",
      "generation  349 :  14.0\n",
      "generation  350 :  14.0\n",
      "generation  351 :  14.0\n",
      "generation  352 :  14.0\n",
      "generation  353 :  14.0\n",
      "generation  354 :  14.0\n",
      "generation  355 :  14.0\n",
      "generation  356 :  14.0\n",
      "generation  357 :  14.0\n",
      "generation  358 :  14.0\n",
      "generation  359 :  14.0\n",
      "generation  360 :  14.0\n",
      "generation  361 :  14.0\n",
      "generation  362 :  14.0\n",
      "generation  363 :  14.0\n",
      "generation  364 :  14.0\n",
      "generation  365 :  14.0\n",
      "generation  366 :  14.0\n",
      "generation  367 :  14.0\n",
      "generation  368 :  14.0\n",
      "generation  369 :  14.0\n",
      "generation  370 :  14.0\n",
      "generation  371 :  14.0\n",
      "generation  372 :  14.0\n",
      "generation  373 :  14.0\n",
      "generation  374 :  14.0\n",
      "generation  375 :  14.0\n",
      "generation  376 :  14.0\n",
      "generation  377 :  14.0\n",
      "generation  378 :  14.0\n",
      "generation  379 :  14.0\n",
      "generation  380 :  14.0\n",
      "generation  381 :  14.0\n",
      "generation  382 :  14.0\n",
      "generation  383 :  14.0\n",
      "generation  384 :  14.0\n",
      "generation  385 :  14.0\n",
      "generation  386 :  14.0\n",
      "generation  387 :  14.0\n",
      "generation  388 :  14.0\n",
      "generation  389 :  14.0\n",
      "generation  390 :  14.0\n",
      "generation  391 :  14.0\n",
      "generation  392 :  14.0\n",
      "generation  393 :  14.0\n",
      "generation  394 :  14.0\n",
      "generation  395 :  14.0\n",
      "generation  396 :  14.0\n",
      "generation  397 :  14.0\n",
      "generation  398 :  14.0\n",
      "generation  399 :  14.0\n",
      "generation  400 :  14.0\n",
      "generation  401 :  14.0\n",
      "generation  402 :  14.0\n",
      "generation  403 :  14.0\n",
      "generation  404 :  14.0\n",
      "generation  405 :  14.0\n",
      "generation  406 :  14.0\n",
      "generation  407 :  14.0\n",
      "generation  408 :  14.0\n",
      "generation  409 :  14.0\n",
      "generation  410 :  14.0\n",
      "generation  411 :  14.0\n",
      "generation  412 :  14.0\n",
      "generation  413 :  14.0\n",
      "generation  414 :  14.0\n",
      "generation  415 :  14.0\n",
      "generation  416 :  14.0\n",
      "generation  417 :  14.0\n",
      "generation  418 :  14.0\n",
      "generation  419 :  14.0\n",
      "generation  420 :  14.0\n",
      "generation  421 :  14.0\n",
      "generation  422 :  14.0\n",
      "generation  423 :  14.0\n",
      "generation  424 :  14.0\n",
      "generation  425 :  14.0\n",
      "generation  426 :  14.0\n",
      "generation  427 :  14.0\n",
      "generation  428 :  14.0\n",
      "generation  429 :  14.0\n",
      "generation  430 :  14.0\n",
      "generation  431 :  14.0\n",
      "generation  432 :  14.0\n",
      "generation  433 :  14.0\n",
      "generation  434 :  14.0\n",
      "generation  435 :  14.0\n",
      "generation  436 :  14.0\n",
      "generation  437 :  14.0\n",
      "generation  438 :  14.0\n",
      "generation  439 :  14.0\n",
      "generation  440 :  14.0\n",
      "generation  441 :  14.0\n",
      "generation  442 :  14.0\n",
      "generation  443 :  14.0\n",
      "generation  444 :  14.0\n",
      "generation  445 :  14.0\n",
      "generation  446 :  14.0\n",
      "generation  447 :  14.0\n",
      "generation  448 :  14.0\n",
      "generation  449 :  14.0\n",
      "generation  450 :  14.0\n",
      "generation  451 :  14.0\n",
      "generation  452 :  14.0\n",
      "generation  453 :  14.0\n",
      "generation  454 :  14.0\n",
      "generation  455 :  14.0\n",
      "generation  456 :  14.0\n",
      "generation  457 :  14.0\n",
      "generation  458 :  14.0\n",
      "generation  459 :  14.0\n",
      "generation  460 :  14.0\n",
      "generation  461 :  14.0\n"
     ]
    }
   ],
   "source": [
    "\n",
    "start = time()\n",
    "population.one_plus_lamda(500, GEN_CHAMPIONS, FITNESS_GOAL, report = 1)\n",
    "end = time()\n",
    "print(\"Execution time: \", end - start)"
   ]
  },
  {
   "cell_type": "code",
   "execution_count": 76,
   "metadata": {},
   "outputs": [],
   "source": [
    "population.save_pop(\"aaa.pkl\")\n",
    "def scale_matrix(matrix, scale):\n",
    "    return np.kron(matrix, np.ones((scale,scale)))\n",
    "\n",
    "def animate_individual(individual, steps, scale, t):\n",
    "    shape = TARGET_IMG.shape\n",
    "    ca = CA_2D_model(shape[0], shape[1], individual.operate, 1 + EXTRA_LAYERS)\n",
    "\n",
    "    canvas = Canvas(width=TARGET_IMG.shape[0]*scale, height=TARGET_IMG.shape[1]*scale)\n",
    "    canvas\n",
    "    for i in range(steps):\n",
    "        with hold_canvas(canvas):\n",
    "            # Clear the old animation step\n",
    "            canvas.clear()\n",
    "            # Perfom all your drawings here\n",
    "            img = scale_matrix(ca.remove_pad(), scale)\n",
    "            _ = canvas.put_image_data(img, 0, 0)\n",
    "\n",
    "            update = ca.update()\n",
    "            print_img(img)\n",
    "            if not update: # the automata got stable\n",
    "                break\n",
    "\n",
    "        # Animation frequency ~50Hz = 1./50. seconds\n",
    "        sleep(t)"
   ]
  },
  {
   "cell_type": "code",
   "execution_count": 67,
   "metadata": {},
   "outputs": [
    {
     "name": "stdout",
     "output_type": "stream",
     "text": [
      "21.0\n",
      "21.0\n",
      "21.0\n",
      "21.0\n",
      "21.0\n",
      "21.0\n",
      "21.0\n",
      "21.0\n",
      "21.0\n",
      "21.0\n",
      "21.0\n",
      "21.0\n",
      "21.0\n",
      "21.0\n",
      "21.0\n",
      "21.0\n"
     ]
    }
   ],
   "source": [
    "\n",
    "hof = population.get_best_indvs(16)\n",
    "for ind in hof:\n",
    "    print(ind.fitness)"
   ]
  },
  {
   "cell_type": "code",
   "execution_count": 73,
   "metadata": {},
   "outputs": [
    {
     "name": "stdout",
     "output_type": "stream",
     "text": [
      "28.0\n"
     ]
    },
    {
     "data": {
      "image/png": "[encoded data removed]",
      "text/plain": [
       "<Figure size 288x288 with 1 Axes>"
      ]
     },
     "metadata": {
      "needs_background": "light"
     },
     "output_type": "display_data"
    },
    {
     "name": "stdout",
     "output_type": "stream",
     "text": [
      "27.0\n"
     ]
    },
    {
     "data": {
      "image/png": "[encoded data removed]",
      "text/plain": [
       "<Figure size 288x288 with 1 Axes>"
      ]
     },
     "metadata": {
      "needs_background": "light"
     },
     "output_type": "display_data"
    },
    {
     "name": "stdout",
     "output_type": "stream",
     "text": [
      "26.0\n"
     ]
    },
    {
     "data": {
      "image/png": "[encoded data removed]",
      "text/plain": [
       "<Figure size 288x288 with 1 Axes>"
      ]
     },
     "metadata": {
      "needs_background": "light"
     },
     "output_type": "display_data"
    },
    {
     "name": "stdout",
     "output_type": "stream",
     "text": [
      "25.0\n"
     ]
    },
    {
     "data": {
      "image/png": "[encoded data removed]",
      "text/plain": [
       "<Figure size 288x288 with 1 Axes>"
      ]
     },
     "metadata": {
      "needs_background": "light"
     },
     "output_type": "display_data"
    },
    {
     "name": "stdout",
     "output_type": "stream",
     "text": [
      "24.0\n"
     ]
    },
    {
     "data": {
      "image/png": "[encoded data removed]",
      "text/plain": [
       "<Figure size 288x288 with 1 Axes>"
      ]
     },
     "metadata": {
      "needs_background": "light"
     },
     "output_type": "display_data"
    },
    {
     "name": "stdout",
     "output_type": "stream",
     "text": [
      "23.0\n"
     ]
    },
    {
     "data": {
      "image/png": "[encoded data removed]",
      "text/plain": [
       "<Figure size 288x288 with 1 Axes>"
      ]
     },
     "metadata": {
      "needs_background": "light"
     },
     "output_type": "display_data"
    },
    {
     "name": "stdout",
     "output_type": "stream",
     "text": [
      "22.0\n"
     ]
    },
    {
     "data": {
      "image/png": "[encoded data removed]",
      "text/plain": [
       "<Figure size 288x288 with 1 Axes>"
      ]
     },
     "metadata": {
      "needs_background": "light"
     },
     "output_type": "display_data"
    },
    {
     "name": "stdout",
     "output_type": "stream",
     "text": [
      "21.0\n"
     ]
    },
    {
     "data": {
      "image/png": "[encoded data removed]",
      "text/plain": [
       "<Figure size 288x288 with 1 Axes>"
      ]
     },
     "metadata": {
      "needs_background": "light"
     },
     "output_type": "display_data"
    },
    {
     "name": "stdout",
     "output_type": "stream",
     "text": [
      "21.0\n"
     ]
    },
    {
     "data": {
      "image/png": "[encoded data removed]",
      "text/plain": [
       "<Figure size 288x288 with 1 Axes>"
      ]
     },
     "metadata": {
      "needs_background": "light"
     },
     "output_type": "display_data"
    },
    {
     "name": "stdout",
     "output_type": "stream",
     "text": [
      "21.0\n"
     ]
    }
   ],
   "source": [
    "print(eval_individual(hof[0], TARGET_IMG, total_layers, True))\n"
   ]
  },
  {
   "cell_type": "code",
   "execution_count": 74,
   "metadata": {},
   "outputs": [
    {
     "data": {
      "image/png": "[encoded data removed]",
      "text/plain": [
       "<Figure size 1080x1440 with 1 Axes>"
      ]
     },
     "metadata": {},
     "output_type": "display_data"
    }
   ],
   "source": [
    "draw_graph (hof[0])"
   ]
  },
  {
   "cell_type": "code",
   "execution_count": 28,
   "metadata": {},
   "outputs": [
    {
     "data": {
      "application/vnd.jupyter.widget-view+json": {
       "model_id": "404bb2cac01d4f50a46ada6ff03e9fa0",
       "version_major": 2,
       "version_minor": 0
      },
      "text/plain": [
       "Canvas(height=60, width=60)"
      ]
     },
     "metadata": {},
     "output_type": "display_data"
    }
   ],
   "source": [
    "canvas = Canvas(width=TARGET_IMG.shape[0]*4, height=TARGET_IMG.shape[1]*4)\n",
    "canvas"
   ]
  },
  {
   "cell_type": "code",
   "execution_count": 4,
   "metadata": {},
   "outputs": [
    {
     "ename": "AttributeError",
     "evalue": "Can't get attribute 'fit_func_checkboard_img' on <module '__main__'>",
     "output_type": "error",
     "traceback": [
      "\u001b[0;31m---------------------------------------------------------------------------\u001b[0m",
      "\u001b[0;31mAttributeError\u001b[0m                            Traceback (most recent call last)",
      "\u001b[0;32m<ipython-input-4-b9e7eefc8797>\u001b[0m in \u001b[0;36m<module>\u001b[0;34m\u001b[0m\n\u001b[1;32m      1\u001b[0m \u001b[0;32mimport\u001b[0m \u001b[0mpickle\u001b[0m\u001b[0;34m\u001b[0m\u001b[0;34m\u001b[0m\u001b[0m\n\u001b[1;32m      2\u001b[0m \u001b[0;32mwith\u001b[0m \u001b[0mopen\u001b[0m\u001b[0;34m(\u001b[0m\u001b[0;34m\"checkboard.pkl\"\u001b[0m\u001b[0;34m,\u001b[0m \u001b[0;34m'rb'\u001b[0m\u001b[0;34m)\u001b[0m \u001b[0;32mas\u001b[0m \u001b[0mpickle_file\u001b[0m\u001b[0;34m:\u001b[0m\u001b[0;34m\u001b[0m\u001b[0;34m\u001b[0m\u001b[0m\n\u001b[0;32m----> 3\u001b[0;31m     \u001b[0mpop\u001b[0m \u001b[0;34m=\u001b[0m \u001b[0mpickle\u001b[0m\u001b[0;34m.\u001b[0m\u001b[0mload\u001b[0m\u001b[0;34m(\u001b[0m\u001b[0mpickle_file\u001b[0m\u001b[0;34m)\u001b[0m\u001b[0;34m\u001b[0m\u001b[0;34m\u001b[0m\u001b[0m\n\u001b[0m",
      "\u001b[0;31mAttributeError\u001b[0m: Can't get attribute 'fit_func_checkboard_img' on <module '__main__'>"
     ]
    }
   ],
   "source": [
    "import pickle\n",
    "with open(\"checkboard.pkl\", 'rb') as pickle_file:\n",
    "    pop = pickle.load(pickle_file)\n"
   ]
  },
  {
   "cell_type": "code",
   "execution_count": null,
   "metadata": {},
   "outputs": [],
   "source": []
  }
 ],
 "metadata": {
  "kernelspec": {
   "display_name": "Python 3",
   "language": "python",
   "name": "python3"
  },
  "language_info": {
   "codemirror_mode": {
    "name": "ipython",
    "version": 3
   },
   "file_extension": ".py",
   "mimetype": "text/x-python",
   "name": "python",
   "nbconvert_exporter": "python",
   "pygments_lexer": "ipython3",
   "version": "3.8.5"
  }
 },
 "nbformat": 4,
 "nbformat_minor": 5
}

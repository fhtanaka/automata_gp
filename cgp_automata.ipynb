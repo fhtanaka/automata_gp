{
 "cells": [
  {
   "cell_type": "code",
   "execution_count": 1,
   "id": "92102e09-e551-479f-9804-cc1f8362b6d5",
   "metadata": {},
   "outputs": [],
   "source": [
    "import numpy as np\n",
    "from cgp.graph import Graph\n",
    "from cgp.population import Population\n",
    "from automata import CA_2D_model\n",
    "import test_images\n",
    "from arg_parser import parse_args"
   ]
  },
  {
   "cell_type": "code",
   "execution_count": 2,
   "id": "6e2d7980-07d5-4466-8441-16c65854d390",
   "metadata": {},
   "outputs": [],
   "source": [
    "TARGET_EMOJI = 0  # @param \"🦎\"\n",
    "MAX_HEIGHT = 15\n",
    "POPULATION = 4\n",
    "APPLY_SOBEL_FILTER = False\n",
    "VISION = 1\n",
    "TESTS_FOR_EACH_TREE = 1\n",
    "N_TOTAL_STEPS = 100\n",
    "GENS = 30\n",
    "SAVETO = None\n",
    "RENDER = False\n",
    "LIMIT = 10000\n",
    "EXTRA_LAYERS = 3\n",
    "GEN_CHAMPIONS = 1\n",
    "FITNESS_GOAL = 0"
   ]
  },
  {
   "cell_type": "code",
   "execution_count": 3,
   "id": "b149b459-e848-48cb-a90f-f33022ca403f",
   "metadata": {},
   "outputs": [
    {
     "data": {
      "image/png": "[encoded data removed]",
      "text/plain": [
       "<Figure size 288x288 with 1 Axes>"
      ]
     },
     "metadata": {
      "needs_background": "light"
     },
     "output_type": "display_data"
    }
   ],
   "source": [
    "# TARGET_IMG = test_images.load_emoji(0, \"data/stick.png\", 25)\n",
    "# TARGET_IMG = test_images.load_emoji(0, \"data/brazil.png\", 25)\n",
    "# TARGET_IMG = test_images.column_img()\n",
    "# TARGET_IMG = test_images.plus_img()\n",
    "# TARGET_IMG = test_images.degrade_img()\n",
    "TARGET_IMG = test_images.one_color_img(.25)\n",
    "# TARGET_IMG = test_images.x_img()\n",
    "# TARGET_IMG = test_images.diagonal_img()\n",
    "# TARGET_IMG = test_images.load_emoji(command_line_args.img)\n",
    "test_images.print_img(TARGET_IMG)"
   ]
  },
  {
   "cell_type": "code",
   "execution_count": 4,
   "id": "d5222254-b043-41ad-ab67-4cb152995fe5",
   "metadata": {},
   "outputs": [],
   "source": [
    "input_size = (VISION+2)**2\n",
    "if APPLY_SOBEL_FILTER:\n",
    "    input_size *= 3"
   ]
  },
  {
   "cell_type": "code",
   "execution_count": 5,
   "id": "18fe4255-d80a-44ce-878d-92d8f3b97e8e",
   "metadata": {},
   "outputs": [],
   "source": [
    "addition = lambda x, y: x+y\n",
    "multiplication = lambda x, y: x*y\n",
    "subtraction = lambda x, y: x-y\n",
    "constant = lambda x: x\n",
    "protected_div = lambda x, y: 1 if y == 0 else x/y\n",
    "increment = lambda x: x+1\n",
    "invert = lambda x: -x\n",
    "\n",
    "seed = 2002\n",
    "Graph.rng = np.random.RandomState(seed)\n",
    "\n",
    "Population.add_operation(arity=1, func=lambda x: 1, string=\"1\")\n",
    "Population.add_operation(arity=1, func=lambda x: .5, string=\"0.5\")\n",
    "Population.add_operation(arity=1, func=lambda x: .1, string=\"0.1\")\n",
    "Population.add_operation(arity=1, func=constant, string=\"x\")\n",
    "Population.add_operation(arity=1, func=increment, string=\"x+1\")\n",
    "Population.add_operation(arity=1, func=invert, string=\"-x\")\n",
    "Population.add_operation(arity=2, func=addition, string=\"x+y\")\n",
    "Population.add_operation(arity=2, func=multiplication, string=\"x*y\")\n",
    "Population.add_operation(arity=2, func=subtraction, string=\"x-y\")\n",
    "Population.add_operation(arity=2, func=protected_div, string=\"*x/y\")"
   ]
  },
  {
   "cell_type": "code",
   "execution_count": 6,
   "id": "c286e8fc-29ec-4e28-9d92-a5eeab995972",
   "metadata": {},
   "outputs": [],
   "source": [
    "def eval_individual(individual: Graph, target_image, layers, render=False):\n",
    "    shape = target_image.shape\n",
    "    ca = CA_2D_model(shape[0], shape[1], individual.operate, layers)\n",
    "    \n",
    "    total_fitness = 0.0\n",
    "    for i in range(TESTS_FOR_EACH_TREE):\n",
    "        ca.reset_ca()\n",
    "\n",
    "        for _ in range(N_TOTAL_STEPS):\n",
    "            if render:\n",
    "                test_images.print_img(ca.remove_pad())\n",
    "                print(ca.fitness(target_image))\n",
    "            update = ca.update()\n",
    "            if not update: # the automata got stable\n",
    "                break\n",
    "\n",
    "        total_fitness += ca.fitness(target_image)  \n",
    "\n",
    "    fitness = (total_fitness / TESTS_FOR_EACH_TREE) \n",
    "    return fitness"
   ]
  },
  {
   "cell_type": "code",
   "execution_count": 7,
   "id": "bbbbbeee-98e7-4795-b51b-79d229fda96b",
   "metadata": {},
   "outputs": [],
   "source": [
    "# test_images.print_img(TARGET_IMG)\n",
    "total_layers = 1 + EXTRA_LAYERS\n",
    "population = Population(\n",
    "    population_size=POPULATION,\n",
    "    n_in=total_layers*input_size,\n",
    "    n_out=total_layers,\n",
    "    n_row=8,\n",
    "    n_col=4,\n",
    "    levels_back=5,\n",
    "    mutation_strategy=\"prob\",\n",
    "    fitness_func=lambda x: eval_individual(x, TARGET_IMG, total_layers),\n",
    "    minimize_fitness=True,\n",
    "    point_mut_qnt=10,\n",
    "    prob_mut_chance=.2,\n",
    "    mutate_active_only=False\n",
    ")"
   ]
  },
  {
   "cell_type": "code",
   "execution_count": 8,
   "id": "6f204786-6fb1-44ce-addc-c1e437548c6e",
   "metadata": {},
   "outputs": [
    {
     "name": "stdout",
     "output_type": "stream",
     "text": [
      "generation  0\n",
      "0  fit:  39.0625\n",
      "1  fit:  14.062500000000218\n",
      "2  fit:  351.5625\n",
      "3  fit:  351.5625\n",
      "Best fitness of gen:  14.062500000000218\n",
      "generation  1\n",
      "1  fit:  14.062500000000218\n",
      "4  fit:  351.5625\n",
      "5  fit:  39.0625\n",
      "6  fit:  14.062500000000218\n",
      "7  fit:  14.062500000000218\n",
      "Best fitness of gen:  14.062500000000218\n",
      "generation  2\n",
      "7  fit:  14.062500000000218\n",
      "8  fit:  351.5625\n",
      "9  fit:  14.062500000000218\n",
      "10  fit:  14.062500000000218\n",
      "11  fit:  14.062500000000218\n",
      "Best fitness of gen:  14.062500000000218\n",
      "generation  3\n",
      "11  fit:  14.062500000000218\n",
      "12  fit:  14.062500000000218\n",
      "13  fit:  14.062500000000218\n",
      "14  fit:  14.062500000000218\n",
      "15  fit:  351.5625\n",
      "Best fitness of gen:  14.062500000000218\n",
      "generation  4\n",
      "14  fit:  14.062500000000218\n",
      "16  fit:  14.062500000000218\n",
      "17  fit:  14.062500000000218\n",
      "18  fit:  14.062500000000218\n",
      "19  fit:  14.062500000000218\n",
      "Best fitness of gen:  14.062500000000218\n",
      "generation  5\n",
      "19  fit:  14.062500000000218\n",
      "20  fit:  351.5625\n",
      "21  fit:  14.062500000000218\n",
      "22  fit:  14.062500000000218\n",
      "23  fit:  351.5625\n",
      "Best fitness of gen:  14.062500000000218\n",
      "generation  6\n",
      "22  fit:  14.062500000000218\n",
      "24  fit:  14.062500000000218\n",
      "25  fit:  1000.0\n",
      "26  fit:  14.062500000000218\n",
      "27  fit:  351.5625\n",
      "Best fitness of gen:  14.062500000000218\n",
      "generation  7\n",
      "26  fit:  14.062500000000218\n",
      "28  fit:  351.5625\n",
      "29  fit:  14.062500000000218\n",
      "30  fit:  14.062500000000218\n",
      "31  fit:  14.062500000000218\n",
      "Best fitness of gen:  14.062500000000218\n",
      "generation  8\n",
      "31  fit:  14.062500000000218\n",
      "32  fit:  14.062500000000218\n",
      "33  fit:  14.062500000000218\n",
      "34  fit:  14.062500000000218\n",
      "35  fit:  351.5625\n",
      "Best fitness of gen:  14.062500000000218\n",
      "generation  9\n",
      "34  fit:  14.062500000000218\n",
      "36  fit:  14.062500000000218\n",
      "37  fit:  14.062500000000218\n",
      "38  fit:  14.062500000000218\n",
      "39  fit:  351.5625\n",
      "Best fitness of gen:  14.062500000000218\n",
      "Finished execution\n",
      "Total generations: 9\n",
      "Best Fitness: 14.062500000000218\n"
     ]
    }
   ],
   "source": [
    "population.one_plus_lamda(10, GEN_CHAMPIONS, FITNESS_GOAL, report = True)\n",
    "# return pop, log, hof"
   ]
  },
  {
   "cell_type": "code",
   "execution_count": 9,
   "id": "6fcd899d-3524-49e2-94e4-12c4a74afed8",
   "metadata": {},
   "outputs": [],
   "source": [
    "from time import sleep\n",
    "from ipycanvas import Canvas, hold_canvas\n",
    "def scale_matrix(matrix, scale):\n",
    "    return np.kron(matrix, np.ones((scale,scale)))\n",
    "\n",
    "def animate_individual(individual, steps, scale, t):\n",
    "    shape = TARGET_IMG.shape\n",
    "    ca = CA_2D_model(shape[0], shape[1], individual.operate, 1 + EXTRA_LAYERS)\n",
    "\n",
    "    canvas = Canvas(width=TARGET_IMG.shape[0]*scale, height=TARGET_IMG.shape[1]*scale)\n",
    "    print(canvas)\n",
    "    display(canvas)\n",
    "\n",
    "    for i in range(steps):\n",
    "        with hold_canvas(canvas):\n",
    "            # Clear the old animation step\n",
    "            canvas.clear()\n",
    "            # Perfom all your drawings here\n",
    "            img = test_images.grayscale_to_rgb(scale_matrix(ca.remove_pad(), scale))\n",
    "            _ = canvas.put_image_data(img, 0, 0)\n",
    "\n",
    "            update = ca.update()\n",
    "            if not update: # the automata got stable\n",
    "                break\n",
    "\n",
    "        # Animation frequency ~50Hz = 1./50. seconds\n",
    "        sleep(t)\n",
    "    print(ca.remove_pad())"
   ]
  },
  {
   "cell_type": "code",
   "execution_count": 10,
   "id": "9f8632bd-8845-4b79-b90c-2699cf07b39b",
   "metadata": {},
   "outputs": [
    {
     "name": "stdout",
     "output_type": "stream",
     "text": [
      "14.062500000000218\n",
      "0\n",
      "0\n",
      "0\n",
      "0\n"
     ]
    }
   ],
   "source": [
    "for ind in population.indvs:\n",
    "    print(ind.fitness)"
   ]
  },
  {
   "cell_type": "code",
   "execution_count": 13,
   "id": "43857563-65ea-4621-86be-097a84d7f6a3",
   "metadata": {},
   "outputs": [
    {
     "name": "stdout",
     "output_type": "stream",
     "text": [
      "Canvas(height=250, width=250)\n"
     ]
    },
    {
     "data": {
      "application/vnd.jupyter.widget-view+json": {
       "model_id": "d7b9f59a58cb4e43b2045fe97e156301",
       "version_major": 2,
       "version_minor": 0
      },
      "text/plain": [
       "Canvas(height=250, width=250)"
      ]
     },
     "metadata": {},
     "output_type": "display_data"
    },
    {
     "name": "stdout",
     "output_type": "stream",
     "text": [
      "[[0.1 0.1 0.1 0.1 0.1 0.1 0.1 0.1 0.1 0.1 0.1 0.1 0.1 0.1 0.1 0.1 0.1 0.1\n",
      "  0.1 0.1 0.1 0.1 0.1 0.1 0.1]\n",
      " [0.1 0.1 0.1 0.1 0.1 0.1 0.1 0.1 0.1 0.1 0.1 0.1 0.1 0.1 0.1 0.1 0.1 0.1\n",
      "  0.1 0.1 0.1 0.1 0.1 0.1 0.1]\n",
      " [0.1 0.1 0.1 0.1 0.1 0.1 0.1 0.1 0.1 0.1 0.1 0.1 0.1 0.1 0.1 0.1 0.1 0.1\n",
      "  0.1 0.1 0.1 0.1 0.1 0.1 0.1]\n",
      " [0.1 0.1 0.1 0.1 0.1 0.1 0.1 0.1 0.1 0.1 0.1 0.1 0.1 0.1 0.1 0.1 0.1 0.1\n",
      "  0.1 0.1 0.1 0.1 0.1 0.1 0.1]\n",
      " [0.1 0.1 0.1 0.1 0.1 0.1 0.1 0.1 0.1 0.1 0.1 0.1 0.1 0.1 0.1 0.1 0.1 0.1\n",
      "  0.1 0.1 0.1 0.1 0.1 0.1 0.1]\n",
      " [0.1 0.1 0.1 0.1 0.1 0.1 0.1 0.1 0.1 0.1 0.1 0.1 0.1 0.1 0.1 0.1 0.1 0.1\n",
      "  0.1 0.1 0.1 0.1 0.1 0.1 0.1]\n",
      " [0.1 0.1 0.1 0.1 0.1 0.1 0.1 0.1 0.1 0.1 0.1 0.1 0.1 0.1 0.1 0.1 0.1 0.1\n",
      "  0.1 0.1 0.1 0.1 0.1 0.1 0.1]\n",
      " [0.1 0.1 0.1 0.1 0.1 0.1 0.1 0.1 0.1 0.1 0.1 0.1 0.1 0.1 0.1 0.1 0.1 0.1\n",
      "  0.1 0.1 0.1 0.1 0.1 0.1 0.1]\n",
      " [0.1 0.1 0.1 0.1 0.1 0.1 0.1 0.1 0.1 0.1 0.1 0.1 0.1 0.1 0.1 0.1 0.1 0.1\n",
      "  0.1 0.1 0.1 0.1 0.1 0.1 0.1]\n",
      " [0.1 0.1 0.1 0.1 0.1 0.1 0.1 0.1 0.1 0.1 0.1 0.1 0.1 0.1 0.1 0.1 0.1 0.1\n",
      "  0.1 0.1 0.1 0.1 0.1 0.1 0.1]\n",
      " [0.1 0.1 0.1 0.1 0.1 0.1 0.1 0.1 0.1 0.1 0.1 0.1 0.1 0.1 0.1 0.1 0.1 0.1\n",
      "  0.1 0.1 0.1 0.1 0.1 0.1 0.1]\n",
      " [0.1 0.1 0.1 0.1 0.1 0.1 0.1 0.1 0.1 0.1 0.1 0.1 0.1 0.1 0.1 0.1 0.1 0.1\n",
      "  0.1 0.1 0.1 0.1 0.1 0.1 0.1]\n",
      " [0.1 0.1 0.1 0.1 0.1 0.1 0.1 0.1 0.1 0.1 0.1 0.1 0.1 0.1 0.1 0.1 0.1 0.1\n",
      "  0.1 0.1 0.1 0.1 0.1 0.1 0.1]\n",
      " [0.1 0.1 0.1 0.1 0.1 0.1 0.1 0.1 0.1 0.1 0.1 0.1 0.1 0.1 0.1 0.1 0.1 0.1\n",
      "  0.1 0.1 0.1 0.1 0.1 0.1 0.1]\n",
      " [0.1 0.1 0.1 0.1 0.1 0.1 0.1 0.1 0.1 0.1 0.1 0.1 0.1 0.1 0.1 0.1 0.1 0.1\n",
      "  0.1 0.1 0.1 0.1 0.1 0.1 0.1]\n",
      " [0.1 0.1 0.1 0.1 0.1 0.1 0.1 0.1 0.1 0.1 0.1 0.1 0.1 0.1 0.1 0.1 0.1 0.1\n",
      "  0.1 0.1 0.1 0.1 0.1 0.1 0.1]\n",
      " [0.1 0.1 0.1 0.1 0.1 0.1 0.1 0.1 0.1 0.1 0.1 0.1 0.1 0.1 0.1 0.1 0.1 0.1\n",
      "  0.1 0.1 0.1 0.1 0.1 0.1 0.1]\n",
      " [0.1 0.1 0.1 0.1 0.1 0.1 0.1 0.1 0.1 0.1 0.1 0.1 0.1 0.1 0.1 0.1 0.1 0.1\n",
      "  0.1 0.1 0.1 0.1 0.1 0.1 0.1]\n",
      " [0.1 0.1 0.1 0.1 0.1 0.1 0.1 0.1 0.1 0.1 0.1 0.1 0.1 0.1 0.1 0.1 0.1 0.1\n",
      "  0.1 0.1 0.1 0.1 0.1 0.1 0.1]\n",
      " [0.1 0.1 0.1 0.1 0.1 0.1 0.1 0.1 0.1 0.1 0.1 0.1 0.1 0.1 0.1 0.1 0.1 0.1\n",
      "  0.1 0.1 0.1 0.1 0.1 0.1 0.1]\n",
      " [0.1 0.1 0.1 0.1 0.1 0.1 0.1 0.1 0.1 0.1 0.1 0.1 0.1 0.1 0.1 0.1 0.1 0.1\n",
      "  0.1 0.1 0.1 0.1 0.1 0.1 0.1]\n",
      " [0.1 0.1 0.1 0.1 0.1 0.1 0.1 0.1 0.1 0.1 0.1 0.1 0.1 0.1 0.1 0.1 0.1 0.1\n",
      "  0.1 0.1 0.1 0.1 0.1 0.1 0.1]\n",
      " [0.1 0.1 0.1 0.1 0.1 0.1 0.1 0.1 0.1 0.1 0.1 0.1 0.1 0.1 0.1 0.1 0.1 0.1\n",
      "  0.1 0.1 0.1 0.1 0.1 0.1 0.1]\n",
      " [0.1 0.1 0.1 0.1 0.1 0.1 0.1 0.1 0.1 0.1 0.1 0.1 0.1 0.1 0.1 0.1 0.1 0.1\n",
      "  0.1 0.1 0.1 0.1 0.1 0.1 0.1]\n",
      " [0.1 0.1 0.1 0.1 0.1 0.1 0.1 0.1 0.1 0.1 0.1 0.1 0.1 0.1 0.1 0.1 0.1 0.1\n",
      "  0.1 0.1 0.1 0.1 0.1 0.1 0.1]]\n"
     ]
    }
   ],
   "source": [
    "hof = population.get_best_indvs(4)\n",
    "animate_individual(hof[0], 100, 10, 0.02)\n"
   ]
  },
  {
   "cell_type": "code",
   "execution_count": 14,
   "id": "954a7c8d-e388-4fd1-918b-27137a40861b",
   "metadata": {},
   "outputs": [
    {
     "data": {
      "image/png": "[encoded data removed]",
      "text/plain": [
       "<Figure size 432x288 with 1 Axes>"
      ]
     },
     "metadata": {},
     "output_type": "display_data"
    }
   ],
   "source": [
    "hof[0].draw_graph()"
   ]
  },
  {
   "cell_type": "code",
   "execution_count": null,
   "id": "c0b31df7-91f0-4f69-b807-4edab6060dd2",
   "metadata": {},
   "outputs": [],
   "source": []
  }
 ],
 "metadata": {
  "kernelspec": {
   "display_name": "Python 3 (ipykernel)",
   "language": "python",
   "name": "python3"
  },
  "language_info": {
   "codemirror_mode": {
    "name": "ipython",
    "version": 3
   },
   "file_extension": ".py",
   "mimetype": "text/x-python",
   "name": "python",
   "nbconvert_exporter": "python",
   "pygments_lexer": "ipython3",
   "version": "3.8.8"
  }
 },
 "nbformat": 4,
 "nbformat_minor": 5
}
